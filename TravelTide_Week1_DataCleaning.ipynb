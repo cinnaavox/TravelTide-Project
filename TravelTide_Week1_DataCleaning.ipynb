{
  "nbformat": 4,
  "nbformat_minor": 0,
  "metadata": {
    "colab": {
      "provenance": [],
      "authorship_tag": "ABX9TyOLgRKmm5+6o9B/3nTBOJ+7",
      "include_colab_link": true
    },
    "kernelspec": {
      "name": "python3",
      "display_name": "Python 3"
    },
    "language_info": {
      "name": "python"
    }
  },
  "cells": [
    {
      "cell_type": "markdown",
      "metadata": {
        "id": "view-in-github",
        "colab_type": "text"
      },
      "source": [
        "<a href=\"https://colab.research.google.com/github/cinnaavox/TravelTide-Project/blob/main/TravelTide_Week1_DataCleaning.ipynb\" target=\"_parent\"><img src=\"https://colab.research.google.com/assets/colab-badge.svg\" alt=\"Open In Colab\"/></a>"
      ]
    },
    {
      "cell_type": "markdown",
      "source": [
        "##📊 1: Daten einlesen & Überblick"
      ],
      "metadata": {
        "id": "VdLOmMzVh2WQ"
      }
    },
    {
      "cell_type": "code",
      "execution_count": null,
      "metadata": {
        "id": "BOtgR39_-GLr",
        "colab": {
          "base_uri": "https://localhost:8080/",
          "height": 377
        },
        "outputId": "c453728c-dffe-43fa-c71c-58b9da1d09c9"
      },
      "outputs": [
        {
          "output_type": "stream",
          "name": "stdout",
          "text": [
            "Shape: (49211, 41)\n",
            "Spalten: ['session_id', 'user_id', 'trip_id', 'session_start', 'session_end', 'page_clicks', 'flight_discount', 'flight_discount_amount', 'hotel_discount', 'hotel_discount_amount'] ...\n"
          ]
        },
        {
          "output_type": "execute_result",
          "data": {
            "text/plain": [
              "                                session_id  user_id trip_id  \\\n",
              "0  505172-22acb868a6f2498eacb130090225b42b   505172     NaN   \n",
              "1  513237-0c1c5e43a9064d09a671735604cc338a   513237     NaN   \n",
              "2  513397-6be71e4b0ddc496b8ae25fff9dd7b09f   513397     NaN   \n",
              "3  514053-1adc72014d444c398c2ed7c5c7d001b2   514053     NaN   \n",
              "4  531971-b3912af5eb8d43e5baa3bcc8744a8dd0   531971     NaN   \n",
              "\n",
              "         session_start          session_end  page_clicks  flight_discount  \\\n",
              "0  2023-02-12 18:35:00  2023-02-12 18:35:43            6             True   \n",
              "1  2023-02-12 19:58:00  2023-02-12 19:58:33            4            False   \n",
              "2  2023-02-12 07:34:00  2023-02-12 07:35:45           14            False   \n",
              "3  2023-02-12 17:56:00  2023-02-12 17:56:33            4            False   \n",
              "4  2023-02-12 22:35:00  2023-02-12 22:35:30            4            False   \n",
              "\n",
              "   flight_discount_amount  hotel_discount  hotel_discount_amount  ...  \\\n",
              "0                    0.15            True                    0.1  ...   \n",
              "1                     NaN           False                    NaN  ...   \n",
              "2                     NaN           False                    NaN  ...   \n",
              "3                     NaN           False                    NaN  ...   \n",
              "4                     NaN           False                    NaN  ...   \n",
              "\n",
              "   trip_airline  destination_airport_lat  destination_airport_lon  \\\n",
              "0           NaN                      NaN                      NaN   \n",
              "1           NaN                      NaN                      NaN   \n",
              "2           NaN                      NaN                      NaN   \n",
              "3           NaN                      NaN                      NaN   \n",
              "4           NaN                      NaN                      NaN   \n",
              "\n",
              "  base_fare_usd hotel_name  nights  rooms check_in_time check_out_time  \\\n",
              "0           NaN        NaN     NaN    NaN           NaN            NaN   \n",
              "1           NaN        NaN     NaN    NaN           NaN            NaN   \n",
              "2           NaN        NaN     NaN    NaN           NaN            NaN   \n",
              "3           NaN        NaN     NaN    NaN           NaN            NaN   \n",
              "4           NaN        NaN     NaN    NaN           NaN            NaN   \n",
              "\n",
              "  hotel_price_per_room_night_usd  \n",
              "0                            NaN  \n",
              "1                            NaN  \n",
              "2                            NaN  \n",
              "3                            NaN  \n",
              "4                            NaN  \n",
              "\n",
              "[5 rows x 41 columns]"
            ],
            "text/html": [
              "\n",
              "  <div id=\"df-8836d05a-90fb-45fe-bb7a-969123295807\" class=\"colab-df-container\">\n",
              "    <div>\n",
              "<style scoped>\n",
              "    .dataframe tbody tr th:only-of-type {\n",
              "        vertical-align: middle;\n",
              "    }\n",
              "\n",
              "    .dataframe tbody tr th {\n",
              "        vertical-align: top;\n",
              "    }\n",
              "\n",
              "    .dataframe thead th {\n",
              "        text-align: right;\n",
              "    }\n",
              "</style>\n",
              "<table border=\"1\" class=\"dataframe\">\n",
              "  <thead>\n",
              "    <tr style=\"text-align: right;\">\n",
              "      <th></th>\n",
              "      <th>session_id</th>\n",
              "      <th>user_id</th>\n",
              "      <th>trip_id</th>\n",
              "      <th>session_start</th>\n",
              "      <th>session_end</th>\n",
              "      <th>page_clicks</th>\n",
              "      <th>flight_discount</th>\n",
              "      <th>flight_discount_amount</th>\n",
              "      <th>hotel_discount</th>\n",
              "      <th>hotel_discount_amount</th>\n",
              "      <th>...</th>\n",
              "      <th>trip_airline</th>\n",
              "      <th>destination_airport_lat</th>\n",
              "      <th>destination_airport_lon</th>\n",
              "      <th>base_fare_usd</th>\n",
              "      <th>hotel_name</th>\n",
              "      <th>nights</th>\n",
              "      <th>rooms</th>\n",
              "      <th>check_in_time</th>\n",
              "      <th>check_out_time</th>\n",
              "      <th>hotel_price_per_room_night_usd</th>\n",
              "    </tr>\n",
              "  </thead>\n",
              "  <tbody>\n",
              "    <tr>\n",
              "      <th>0</th>\n",
              "      <td>505172-22acb868a6f2498eacb130090225b42b</td>\n",
              "      <td>505172</td>\n",
              "      <td>NaN</td>\n",
              "      <td>2023-02-12 18:35:00</td>\n",
              "      <td>2023-02-12 18:35:43</td>\n",
              "      <td>6</td>\n",
              "      <td>True</td>\n",
              "      <td>0.15</td>\n",
              "      <td>True</td>\n",
              "      <td>0.1</td>\n",
              "      <td>...</td>\n",
              "      <td>NaN</td>\n",
              "      <td>NaN</td>\n",
              "      <td>NaN</td>\n",
              "      <td>NaN</td>\n",
              "      <td>NaN</td>\n",
              "      <td>NaN</td>\n",
              "      <td>NaN</td>\n",
              "      <td>NaN</td>\n",
              "      <td>NaN</td>\n",
              "      <td>NaN</td>\n",
              "    </tr>\n",
              "    <tr>\n",
              "      <th>1</th>\n",
              "      <td>513237-0c1c5e43a9064d09a671735604cc338a</td>\n",
              "      <td>513237</td>\n",
              "      <td>NaN</td>\n",
              "      <td>2023-02-12 19:58:00</td>\n",
              "      <td>2023-02-12 19:58:33</td>\n",
              "      <td>4</td>\n",
              "      <td>False</td>\n",
              "      <td>NaN</td>\n",
              "      <td>False</td>\n",
              "      <td>NaN</td>\n",
              "      <td>...</td>\n",
              "      <td>NaN</td>\n",
              "      <td>NaN</td>\n",
              "      <td>NaN</td>\n",
              "      <td>NaN</td>\n",
              "      <td>NaN</td>\n",
              "      <td>NaN</td>\n",
              "      <td>NaN</td>\n",
              "      <td>NaN</td>\n",
              "      <td>NaN</td>\n",
              "      <td>NaN</td>\n",
              "    </tr>\n",
              "    <tr>\n",
              "      <th>2</th>\n",
              "      <td>513397-6be71e4b0ddc496b8ae25fff9dd7b09f</td>\n",
              "      <td>513397</td>\n",
              "      <td>NaN</td>\n",
              "      <td>2023-02-12 07:34:00</td>\n",
              "      <td>2023-02-12 07:35:45</td>\n",
              "      <td>14</td>\n",
              "      <td>False</td>\n",
              "      <td>NaN</td>\n",
              "      <td>False</td>\n",
              "      <td>NaN</td>\n",
              "      <td>...</td>\n",
              "      <td>NaN</td>\n",
              "      <td>NaN</td>\n",
              "      <td>NaN</td>\n",
              "      <td>NaN</td>\n",
              "      <td>NaN</td>\n",
              "      <td>NaN</td>\n",
              "      <td>NaN</td>\n",
              "      <td>NaN</td>\n",
              "      <td>NaN</td>\n",
              "      <td>NaN</td>\n",
              "    </tr>\n",
              "    <tr>\n",
              "      <th>3</th>\n",
              "      <td>514053-1adc72014d444c398c2ed7c5c7d001b2</td>\n",
              "      <td>514053</td>\n",
              "      <td>NaN</td>\n",
              "      <td>2023-02-12 17:56:00</td>\n",
              "      <td>2023-02-12 17:56:33</td>\n",
              "      <td>4</td>\n",
              "      <td>False</td>\n",
              "      <td>NaN</td>\n",
              "      <td>False</td>\n",
              "      <td>NaN</td>\n",
              "      <td>...</td>\n",
              "      <td>NaN</td>\n",
              "      <td>NaN</td>\n",
              "      <td>NaN</td>\n",
              "      <td>NaN</td>\n",
              "      <td>NaN</td>\n",
              "      <td>NaN</td>\n",
              "      <td>NaN</td>\n",
              "      <td>NaN</td>\n",
              "      <td>NaN</td>\n",
              "      <td>NaN</td>\n",
              "    </tr>\n",
              "    <tr>\n",
              "      <th>4</th>\n",
              "      <td>531971-b3912af5eb8d43e5baa3bcc8744a8dd0</td>\n",
              "      <td>531971</td>\n",
              "      <td>NaN</td>\n",
              "      <td>2023-02-12 22:35:00</td>\n",
              "      <td>2023-02-12 22:35:30</td>\n",
              "      <td>4</td>\n",
              "      <td>False</td>\n",
              "      <td>NaN</td>\n",
              "      <td>False</td>\n",
              "      <td>NaN</td>\n",
              "      <td>...</td>\n",
              "      <td>NaN</td>\n",
              "      <td>NaN</td>\n",
              "      <td>NaN</td>\n",
              "      <td>NaN</td>\n",
              "      <td>NaN</td>\n",
              "      <td>NaN</td>\n",
              "      <td>NaN</td>\n",
              "      <td>NaN</td>\n",
              "      <td>NaN</td>\n",
              "      <td>NaN</td>\n",
              "    </tr>\n",
              "  </tbody>\n",
              "</table>\n",
              "<p>5 rows × 41 columns</p>\n",
              "</div>\n",
              "    <div class=\"colab-df-buttons\">\n",
              "\n",
              "  <div class=\"colab-df-container\">\n",
              "    <button class=\"colab-df-convert\" onclick=\"convertToInteractive('df-8836d05a-90fb-45fe-bb7a-969123295807')\"\n",
              "            title=\"Convert this dataframe to an interactive table.\"\n",
              "            style=\"display:none;\">\n",
              "\n",
              "  <svg xmlns=\"http://www.w3.org/2000/svg\" height=\"24px\" viewBox=\"0 -960 960 960\">\n",
              "    <path d=\"M120-120v-720h720v720H120Zm60-500h600v-160H180v160Zm220 220h160v-160H400v160Zm0 220h160v-160H400v160ZM180-400h160v-160H180v160Zm440 0h160v-160H620v160ZM180-180h160v-160H180v160Zm440 0h160v-160H620v160Z\"/>\n",
              "  </svg>\n",
              "    </button>\n",
              "\n",
              "  <style>\n",
              "    .colab-df-container {\n",
              "      display:flex;\n",
              "      gap: 12px;\n",
              "    }\n",
              "\n",
              "    .colab-df-convert {\n",
              "      background-color: #E8F0FE;\n",
              "      border: none;\n",
              "      border-radius: 50%;\n",
              "      cursor: pointer;\n",
              "      display: none;\n",
              "      fill: #1967D2;\n",
              "      height: 32px;\n",
              "      padding: 0 0 0 0;\n",
              "      width: 32px;\n",
              "    }\n",
              "\n",
              "    .colab-df-convert:hover {\n",
              "      background-color: #E2EBFA;\n",
              "      box-shadow: 0px 1px 2px rgba(60, 64, 67, 0.3), 0px 1px 3px 1px rgba(60, 64, 67, 0.15);\n",
              "      fill: #174EA6;\n",
              "    }\n",
              "\n",
              "    .colab-df-buttons div {\n",
              "      margin-bottom: 4px;\n",
              "    }\n",
              "\n",
              "    [theme=dark] .colab-df-convert {\n",
              "      background-color: #3B4455;\n",
              "      fill: #D2E3FC;\n",
              "    }\n",
              "\n",
              "    [theme=dark] .colab-df-convert:hover {\n",
              "      background-color: #434B5C;\n",
              "      box-shadow: 0px 1px 3px 1px rgba(0, 0, 0, 0.15);\n",
              "      filter: drop-shadow(0px 1px 2px rgba(0, 0, 0, 0.3));\n",
              "      fill: #FFFFFF;\n",
              "    }\n",
              "  </style>\n",
              "\n",
              "    <script>\n",
              "      const buttonEl =\n",
              "        document.querySelector('#df-8836d05a-90fb-45fe-bb7a-969123295807 button.colab-df-convert');\n",
              "      buttonEl.style.display =\n",
              "        google.colab.kernel.accessAllowed ? 'block' : 'none';\n",
              "\n",
              "      async function convertToInteractive(key) {\n",
              "        const element = document.querySelector('#df-8836d05a-90fb-45fe-bb7a-969123295807');\n",
              "        const dataTable =\n",
              "          await google.colab.kernel.invokeFunction('convertToInteractive',\n",
              "                                                    [key], {});\n",
              "        if (!dataTable) return;\n",
              "\n",
              "        const docLinkHtml = 'Like what you see? Visit the ' +\n",
              "          '<a target=\"_blank\" href=https://colab.research.google.com/notebooks/data_table.ipynb>data table notebook</a>'\n",
              "          + ' to learn more about interactive tables.';\n",
              "        element.innerHTML = '';\n",
              "        dataTable['output_type'] = 'display_data';\n",
              "        await google.colab.output.renderOutput(dataTable, element);\n",
              "        const docLink = document.createElement('div');\n",
              "        docLink.innerHTML = docLinkHtml;\n",
              "        element.appendChild(docLink);\n",
              "      }\n",
              "    </script>\n",
              "  </div>\n",
              "\n",
              "\n",
              "    <div id=\"df-89f5059d-bd61-4998-b0eb-9f764df553c6\">\n",
              "      <button class=\"colab-df-quickchart\" onclick=\"quickchart('df-89f5059d-bd61-4998-b0eb-9f764df553c6')\"\n",
              "                title=\"Suggest charts\"\n",
              "                style=\"display:none;\">\n",
              "\n",
              "<svg xmlns=\"http://www.w3.org/2000/svg\" height=\"24px\"viewBox=\"0 0 24 24\"\n",
              "     width=\"24px\">\n",
              "    <g>\n",
              "        <path d=\"M19 3H5c-1.1 0-2 .9-2 2v14c0 1.1.9 2 2 2h14c1.1 0 2-.9 2-2V5c0-1.1-.9-2-2-2zM9 17H7v-7h2v7zm4 0h-2V7h2v10zm4 0h-2v-4h2v4z\"/>\n",
              "    </g>\n",
              "</svg>\n",
              "      </button>\n",
              "\n",
              "<style>\n",
              "  .colab-df-quickchart {\n",
              "      --bg-color: #E8F0FE;\n",
              "      --fill-color: #1967D2;\n",
              "      --hover-bg-color: #E2EBFA;\n",
              "      --hover-fill-color: #174EA6;\n",
              "      --disabled-fill-color: #AAA;\n",
              "      --disabled-bg-color: #DDD;\n",
              "  }\n",
              "\n",
              "  [theme=dark] .colab-df-quickchart {\n",
              "      --bg-color: #3B4455;\n",
              "      --fill-color: #D2E3FC;\n",
              "      --hover-bg-color: #434B5C;\n",
              "      --hover-fill-color: #FFFFFF;\n",
              "      --disabled-bg-color: #3B4455;\n",
              "      --disabled-fill-color: #666;\n",
              "  }\n",
              "\n",
              "  .colab-df-quickchart {\n",
              "    background-color: var(--bg-color);\n",
              "    border: none;\n",
              "    border-radius: 50%;\n",
              "    cursor: pointer;\n",
              "    display: none;\n",
              "    fill: var(--fill-color);\n",
              "    height: 32px;\n",
              "    padding: 0;\n",
              "    width: 32px;\n",
              "  }\n",
              "\n",
              "  .colab-df-quickchart:hover {\n",
              "    background-color: var(--hover-bg-color);\n",
              "    box-shadow: 0 1px 2px rgba(60, 64, 67, 0.3), 0 1px 3px 1px rgba(60, 64, 67, 0.15);\n",
              "    fill: var(--button-hover-fill-color);\n",
              "  }\n",
              "\n",
              "  .colab-df-quickchart-complete:disabled,\n",
              "  .colab-df-quickchart-complete:disabled:hover {\n",
              "    background-color: var(--disabled-bg-color);\n",
              "    fill: var(--disabled-fill-color);\n",
              "    box-shadow: none;\n",
              "  }\n",
              "\n",
              "  .colab-df-spinner {\n",
              "    border: 2px solid var(--fill-color);\n",
              "    border-color: transparent;\n",
              "    border-bottom-color: var(--fill-color);\n",
              "    animation:\n",
              "      spin 1s steps(1) infinite;\n",
              "  }\n",
              "\n",
              "  @keyframes spin {\n",
              "    0% {\n",
              "      border-color: transparent;\n",
              "      border-bottom-color: var(--fill-color);\n",
              "      border-left-color: var(--fill-color);\n",
              "    }\n",
              "    20% {\n",
              "      border-color: transparent;\n",
              "      border-left-color: var(--fill-color);\n",
              "      border-top-color: var(--fill-color);\n",
              "    }\n",
              "    30% {\n",
              "      border-color: transparent;\n",
              "      border-left-color: var(--fill-color);\n",
              "      border-top-color: var(--fill-color);\n",
              "      border-right-color: var(--fill-color);\n",
              "    }\n",
              "    40% {\n",
              "      border-color: transparent;\n",
              "      border-right-color: var(--fill-color);\n",
              "      border-top-color: var(--fill-color);\n",
              "    }\n",
              "    60% {\n",
              "      border-color: transparent;\n",
              "      border-right-color: var(--fill-color);\n",
              "    }\n",
              "    80% {\n",
              "      border-color: transparent;\n",
              "      border-right-color: var(--fill-color);\n",
              "      border-bottom-color: var(--fill-color);\n",
              "    }\n",
              "    90% {\n",
              "      border-color: transparent;\n",
              "      border-bottom-color: var(--fill-color);\n",
              "    }\n",
              "  }\n",
              "</style>\n",
              "\n",
              "      <script>\n",
              "        async function quickchart(key) {\n",
              "          const quickchartButtonEl =\n",
              "            document.querySelector('#' + key + ' button');\n",
              "          quickchartButtonEl.disabled = true;  // To prevent multiple clicks.\n",
              "          quickchartButtonEl.classList.add('colab-df-spinner');\n",
              "          try {\n",
              "            const charts = await google.colab.kernel.invokeFunction(\n",
              "                'suggestCharts', [key], {});\n",
              "          } catch (error) {\n",
              "            console.error('Error during call to suggestCharts:', error);\n",
              "          }\n",
              "          quickchartButtonEl.classList.remove('colab-df-spinner');\n",
              "          quickchartButtonEl.classList.add('colab-df-quickchart-complete');\n",
              "        }\n",
              "        (() => {\n",
              "          let quickchartButtonEl =\n",
              "            document.querySelector('#df-89f5059d-bd61-4998-b0eb-9f764df553c6 button');\n",
              "          quickchartButtonEl.style.display =\n",
              "            google.colab.kernel.accessAllowed ? 'block' : 'none';\n",
              "        })();\n",
              "      </script>\n",
              "    </div>\n",
              "\n",
              "    </div>\n",
              "  </div>\n"
            ],
            "application/vnd.google.colaboratory.intrinsic+json": {
              "type": "dataframe",
              "variable_name": "df"
            }
          },
          "metadata": {},
          "execution_count": 1
        }
      ],
      "source": [
        "import pandas as pd\n",
        "\n",
        "# Pfad zur CSV\n",
        "CSV_PATH = \"session_base_new.csv\"\n",
        "\n",
        "# Daten einlesen\n",
        "df = pd.read_csv(CSV_PATH, low_memory=False)\n",
        "\n",
        "# Überblick: Dimensionen + erste Spalten\n",
        "print(\"Shape:\", df.shape)\n",
        "print(\"Spalten:\", df.columns.tolist()[:10], \"...\")\n",
        "\n",
        "# Erste Zeilen ansehen\n",
        "df.head()"
      ]
    },
    {
      "cell_type": "markdown",
      "source": [
        "Ich habe die neue session_base_new.csv eingelesen.\n",
        "\n",
        "* Der Datensatz hat aktuell X Zeilen und Y Spalten (wird beim Einlesen angezeigt).\n",
        "\n",
        "* Direkt sehe ich, dass wichtige Features wie user_id, session_start, session_end, nights, base_fare_usd usw. enthalten sind.\n",
        "\n",
        "* Damit habe ich nun eine umfassende Basis, die alle Informationen aus Users, Sessions, Flights und Hotels kombiniert.\n",
        "\n",
        "Das ist mein Rohdatensatz. Ab jetzt konzentriere ich mich darauf, Fehler, Ausreißer und Null-Werte aufzuspüren und den Datensatz Schritt für Schritt aufzubereiten."
      ],
      "metadata": {
        "id": "Er-g64IpiJIM"
      }
    },
    {
      "cell_type": "markdown",
      "source": [
        "## 🧹 2: Missing Values & Datentypen prüfen"
      ],
      "metadata": {
        "id": "HQP8PR8oiY47"
      }
    },
    {
      "cell_type": "code",
      "source": [
        "# Überblick über Datentypen und erste Statistiken\n",
        "df.info()\n",
        "\n",
        "# Prozentualer Anteil an fehlenden Werten pro Spalte\n",
        "missing = df.isnull().mean().sort_values(ascending=False) * 100\n",
        "print(\"\\nTop 15 Spalten mit den meisten fehlenden Werten:\\n\")\n",
        "print(missing.head(15))\n",
        "\n",
        "# Plot der Missing Values\n",
        "import matplotlib.pyplot as plt\n",
        "\n",
        "missing.head(15).plot(kind=\"barh\", figsize=(8,6), color=\"#4A90E2\")\n",
        "plt.title(\"Top 15 Spalten mit fehlenden Werten (%)\", fontsize=14)\n",
        "plt.xlabel(\"Prozent fehlender Werte\")\n",
        "plt.gca().invert_yaxis()\n",
        "plt.show()"
      ],
      "metadata": {
        "colab": {
          "base_uri": "https://localhost:8080/",
          "height": 1000
        },
        "id": "VEkxx7Dtidbj",
        "outputId": "9786c24e-9d3e-4872-86fa-f0f293930a8e"
      },
      "execution_count": null,
      "outputs": [
        {
          "output_type": "stream",
          "name": "stdout",
          "text": [
            "<class 'pandas.core.frame.DataFrame'>\n",
            "RangeIndex: 49211 entries, 0 to 49210\n",
            "Data columns (total 41 columns):\n",
            " #   Column                          Non-Null Count  Dtype  \n",
            "---  ------                          --------------  -----  \n",
            " 0   session_id                      49211 non-null  object \n",
            " 1   user_id                         49211 non-null  int64  \n",
            " 2   trip_id                         16702 non-null  object \n",
            " 3   session_start                   49211 non-null  object \n",
            " 4   session_end                     49211 non-null  object \n",
            " 5   page_clicks                     49211 non-null  int64  \n",
            " 6   flight_discount                 49211 non-null  bool   \n",
            " 7   flight_discount_amount          8282 non-null   float64\n",
            " 8   hotel_discount                  49211 non-null  bool   \n",
            " 9   hotel_discount_amount           6205 non-null   float64\n",
            " 10  flight_booked                   49211 non-null  bool   \n",
            " 11  hotel_booked                    49211 non-null  bool   \n",
            " 12  cancellation                    49211 non-null  bool   \n",
            " 13  birthdate                       49211 non-null  object \n",
            " 14  gender                          49211 non-null  object \n",
            " 15  married                         49211 non-null  bool   \n",
            " 16  has_children                    49211 non-null  bool   \n",
            " 17  home_country                    49211 non-null  object \n",
            " 18  home_city                       49211 non-null  object \n",
            " 19  home_airport                    49211 non-null  object \n",
            " 20  home_airport_lat                49211 non-null  float64\n",
            " 21  home_airport_lon                49211 non-null  float64\n",
            " 22  sign_up_date                    49211 non-null  object \n",
            " 23  origin_airport                  14270 non-null  object \n",
            " 24  destination                     14270 non-null  object \n",
            " 25  destination_airport             14270 non-null  object \n",
            " 26  seats                           14270 non-null  float64\n",
            " 27  return_flight_booked            14270 non-null  object \n",
            " 28  departure_time                  14270 non-null  object \n",
            " 29  return_time                     13652 non-null  object \n",
            " 30  checked_bags                    14270 non-null  float64\n",
            " 31  trip_airline                    14270 non-null  object \n",
            " 32  destination_airport_lat         14270 non-null  float64\n",
            " 33  destination_airport_lon         14270 non-null  float64\n",
            " 34  base_fare_usd                   14270 non-null  float64\n",
            " 35  hotel_name                      14726 non-null  object \n",
            " 36  nights                          14726 non-null  float64\n",
            " 37  rooms                           14726 non-null  float64\n",
            " 38  check_in_time                   14726 non-null  object \n",
            " 39  check_out_time                  14726 non-null  object \n",
            " 40  hotel_price_per_room_night_usd  14726 non-null  float64\n",
            "dtypes: bool(7), float64(12), int64(2), object(20)\n",
            "memory usage: 13.1+ MB\n",
            "\n",
            "Top 15 Spalten mit den meisten fehlenden Werten:\n",
            "\n",
            "hotel_discount_amount      87.391030\n",
            "flight_discount_amount     83.170429\n",
            "return_time                72.258235\n",
            "departure_time             71.002418\n",
            "base_fare_usd              71.002418\n",
            "origin_airport             71.002418\n",
            "destination                71.002418\n",
            "return_flight_booked       71.002418\n",
            "seats                      71.002418\n",
            "destination_airport_lat    71.002418\n",
            "trip_airline               71.002418\n",
            "checked_bags               71.002418\n",
            "destination_airport_lon    71.002418\n",
            "destination_airport        71.002418\n",
            "hotel_name                 70.075796\n",
            "dtype: float64\n"
          ]
        },
        {
          "output_type": "display_data",
          "data": {
            "text/plain": [
              "<Figure size 800x600 with 1 Axes>"
            ],
            "image/png": "[encoded data removed]"
          },
          "metadata": {}
        }
      ]
    },
    {
      "cell_type": "markdown",
      "source": [
        "Ich habe die Spalten auf fehlende Werte untersucht. Dabei wurde der prozentuale Anteil der Null-Werte berechnet und die Spalten mit den meisten fehlenden Werten identifiziert.\n",
        "\n",
        "Die Übersicht zeigt mir:\n",
        "\n",
        "* Einige Spalten enthalten sehr viele fehlende Werte (z. B. Hotel- oder Flug-Infos, wenn Nutzer nur eine Session ohne Buchung hatten).\n",
        "\n",
        "* Andere Kernspalten wie user_id, session_start, session_end haben dagegen keine oder fast keine fehlenden Werte, was wichtig ist für die Konsistenz der Analyse.\n",
        "\n",
        "* Durch das Balkendiagramm habe ich die wichtigsten Problem-Spalten sofort im Blick.\n",
        "\n",
        "Diese Erkenntnisse helfen mir, im nächsten Schritt zu entscheiden:\n",
        "\n",
        "* Welche Spalten behalte ich trotz vieler Nulls (weil sie wichtig für die Analyse sind)?\n",
        "\n",
        "* Welche Spalten könnte man später evtl. droppen?\n",
        "\n",
        "* Wo sind gezielte Imputationen (z. B. 0 statt NaN bei checked_bags) sinnvoll?"
      ],
      "metadata": {
        "id": "ibcDOsLIiuNs"
      }
    },
    {
      "cell_type": "markdown",
      "source": [
        "### 📝 Analyse der fehlenden Werte"
      ],
      "metadata": {
        "id": "HMaqfUg9jYuM"
      }
    },
    {
      "cell_type": "markdown",
      "source": [
        "Um die Qualität des Datensatzes besser zu verstehen, habe ich zunächst geprüft, in welchen Spalten die meisten fehlenden Werte vorkommen.\n",
        "\n",
        "➡️ Ergebnis:\n",
        "\n",
        "* Besonders stark betroffen sind hotel_discount_amount (ca. 87 % fehlend) und flight_discount_amount (ca. 83 %).\n",
        "\n",
        "* Auch Felder wie return_time, departure_time, base_fare_usd, origin_airport, destination, trip_airline und hotel_name haben jeweils rund 70 % fehlende Einträge.\n",
        "\n",
        "Das habe ich mir sowohl tabellarisch als auch grafisch anzeigen lassen:\n",
        "\n",
        "📊 Das Balkendiagramm verdeutlicht, dass viele dieser Spalten zu Flug- und Hotelbuchungen gehören.\n",
        "Das erklärt, warum so viele Nullwerte auftreten: nicht jede Session beinhaltet einen Flug oder eine Hotelbuchung.\n",
        "\n",
        "➡️ Erste Erkenntnis:\n",
        "\n",
        "Die hohe Rate an fehlenden Werten ist kein technischer Fehler, sondern liegt in der Natur der Daten. Sessions können reine Browsing-Sessions ohne Buchung sein. Für spätere Analysen muss ich daher unterscheiden:\n",
        "\n",
        "* strukturelle Nulls (z. B. keine Hotelbuchung → hotel_name = NaN)\n",
        "\n",
        "* unerwartete Nulls, die evtl. Datenfehler sind."
      ],
      "metadata": {
        "id": "ZIS7cbt2jbcC"
      }
    },
    {
      "cell_type": "markdown",
      "source": [
        "## 🧹 3: Umgang mit fehlenden Werten"
      ],
      "metadata": {
        "id": "4XZauE3PjzBU"
      }
    },
    {
      "cell_type": "code",
      "source": [
        "# Anzahl und Anteil fehlender Werte pro Spalte\n",
        "missing_summary = (\n",
        "    df.isnull()\n",
        "      .sum()\n",
        "      .to_frame(\"missing_count\")\n",
        "      .assign(missing_pct=lambda x: (x[\"missing_count\"] / len(df) * 100).round(2))\n",
        "      .sort_values(\"missing_pct\", ascending=False)\n",
        ")\n",
        "\n",
        "missing_summary.head(15)"
      ],
      "metadata": {
        "colab": {
          "base_uri": "https://localhost:8080/",
          "height": 520
        },
        "id": "c_dRMvcjj3Pd",
        "outputId": "59f4c793-0b2f-4e39-c2ef-c2912da20543"
      },
      "execution_count": null,
      "outputs": [
        {
          "output_type": "execute_result",
          "data": {
            "text/plain": [
              "                         missing_count  missing_pct\n",
              "hotel_discount_amount            43006        87.39\n",
              "flight_discount_amount           40929        83.17\n",
              "return_time                      35559        72.26\n",
              "departure_time                   34941        71.00\n",
              "base_fare_usd                    34941        71.00\n",
              "origin_airport                   34941        71.00\n",
              "destination                      34941        71.00\n",
              "return_flight_booked             34941        71.00\n",
              "seats                            34941        71.00\n",
              "destination_airport_lat          34941        71.00\n",
              "trip_airline                     34941        71.00\n",
              "checked_bags                     34941        71.00\n",
              "destination_airport_lon          34941        71.00\n",
              "destination_airport              34941        71.00\n",
              "hotel_name                       34485        70.08"
            ],
            "text/html": [
              "\n",
              "  <div id=\"df-63820a47-0d48-48dc-a362-767dba8e0fac\" class=\"colab-df-container\">\n",
              "    <div>\n",
              "<style scoped>\n",
              "    .dataframe tbody tr th:only-of-type {\n",
              "        vertical-align: middle;\n",
              "    }\n",
              "\n",
              "    .dataframe tbody tr th {\n",
              "        vertical-align: top;\n",
              "    }\n",
              "\n",
              "    .dataframe thead th {\n",
              "        text-align: right;\n",
              "    }\n",
              "</style>\n",
              "<table border=\"1\" class=\"dataframe\">\n",
              "  <thead>\n",
              "    <tr style=\"text-align: right;\">\n",
              "      <th></th>\n",
              "      <th>missing_count</th>\n",
              "      <th>missing_pct</th>\n",
              "    </tr>\n",
              "  </thead>\n",
              "  <tbody>\n",
              "    <tr>\n",
              "      <th>hotel_discount_amount</th>\n",
              "      <td>43006</td>\n",
              "      <td>87.39</td>\n",
              "    </tr>\n",
              "    <tr>\n",
              "      <th>flight_discount_amount</th>\n",
              "      <td>40929</td>\n",
              "      <td>83.17</td>\n",
              "    </tr>\n",
              "    <tr>\n",
              "      <th>return_time</th>\n",
              "      <td>35559</td>\n",
              "      <td>72.26</td>\n",
              "    </tr>\n",
              "    <tr>\n",
              "      <th>departure_time</th>\n",
              "      <td>34941</td>\n",
              "      <td>71.00</td>\n",
              "    </tr>\n",
              "    <tr>\n",
              "      <th>base_fare_usd</th>\n",
              "      <td>34941</td>\n",
              "      <td>71.00</td>\n",
              "    </tr>\n",
              "    <tr>\n",
              "      <th>origin_airport</th>\n",
              "      <td>34941</td>\n",
              "      <td>71.00</td>\n",
              "    </tr>\n",
              "    <tr>\n",
              "      <th>destination</th>\n",
              "      <td>34941</td>\n",
              "      <td>71.00</td>\n",
              "    </tr>\n",
              "    <tr>\n",
              "      <th>return_flight_booked</th>\n",
              "      <td>34941</td>\n",
              "      <td>71.00</td>\n",
              "    </tr>\n",
              "    <tr>\n",
              "      <th>seats</th>\n",
              "      <td>34941</td>\n",
              "      <td>71.00</td>\n",
              "    </tr>\n",
              "    <tr>\n",
              "      <th>destination_airport_lat</th>\n",
              "      <td>34941</td>\n",
              "      <td>71.00</td>\n",
              "    </tr>\n",
              "    <tr>\n",
              "      <th>trip_airline</th>\n",
              "      <td>34941</td>\n",
              "      <td>71.00</td>\n",
              "    </tr>\n",
              "    <tr>\n",
              "      <th>checked_bags</th>\n",
              "      <td>34941</td>\n",
              "      <td>71.00</td>\n",
              "    </tr>\n",
              "    <tr>\n",
              "      <th>destination_airport_lon</th>\n",
              "      <td>34941</td>\n",
              "      <td>71.00</td>\n",
              "    </tr>\n",
              "    <tr>\n",
              "      <th>destination_airport</th>\n",
              "      <td>34941</td>\n",
              "      <td>71.00</td>\n",
              "    </tr>\n",
              "    <tr>\n",
              "      <th>hotel_name</th>\n",
              "      <td>34485</td>\n",
              "      <td>70.08</td>\n",
              "    </tr>\n",
              "  </tbody>\n",
              "</table>\n",
              "</div>\n",
              "    <div class=\"colab-df-buttons\">\n",
              "\n",
              "  <div class=\"colab-df-container\">\n",
              "    <button class=\"colab-df-convert\" onclick=\"convertToInteractive('df-63820a47-0d48-48dc-a362-767dba8e0fac')\"\n",
              "            title=\"Convert this dataframe to an interactive table.\"\n",
              "            style=\"display:none;\">\n",
              "\n",
              "  <svg xmlns=\"http://www.w3.org/2000/svg\" height=\"24px\" viewBox=\"0 -960 960 960\">\n",
              "    <path d=\"M120-120v-720h720v720H120Zm60-500h600v-160H180v160Zm220 220h160v-160H400v160Zm0 220h160v-160H400v160ZM180-400h160v-160H180v160Zm440 0h160v-160H620v160ZM180-180h160v-160H180v160Zm440 0h160v-160H620v160Z\"/>\n",
              "  </svg>\n",
              "    </button>\n",
              "\n",
              "  <style>\n",
              "    .colab-df-container {\n",
              "      display:flex;\n",
              "      gap: 12px;\n",
              "    }\n",
              "\n",
              "    .colab-df-convert {\n",
              "      background-color: #E8F0FE;\n",
              "      border: none;\n",
              "      border-radius: 50%;\n",
              "      cursor: pointer;\n",
              "      display: none;\n",
              "      fill: #1967D2;\n",
              "      height: 32px;\n",
              "      padding: 0 0 0 0;\n",
              "      width: 32px;\n",
              "    }\n",
              "\n",
              "    .colab-df-convert:hover {\n",
              "      background-color: #E2EBFA;\n",
              "      box-shadow: 0px 1px 2px rgba(60, 64, 67, 0.3), 0px 1px 3px 1px rgba(60, 64, 67, 0.15);\n",
              "      fill: #174EA6;\n",
              "    }\n",
              "\n",
              "    .colab-df-buttons div {\n",
              "      margin-bottom: 4px;\n",
              "    }\n",
              "\n",
              "    [theme=dark] .colab-df-convert {\n",
              "      background-color: #3B4455;\n",
              "      fill: #D2E3FC;\n",
              "    }\n",
              "\n",
              "    [theme=dark] .colab-df-convert:hover {\n",
              "      background-color: #434B5C;\n",
              "      box-shadow: 0px 1px 3px 1px rgba(0, 0, 0, 0.15);\n",
              "      filter: drop-shadow(0px 1px 2px rgba(0, 0, 0, 0.3));\n",
              "      fill: #FFFFFF;\n",
              "    }\n",
              "  </style>\n",
              "\n",
              "    <script>\n",
              "      const buttonEl =\n",
              "        document.querySelector('#df-63820a47-0d48-48dc-a362-767dba8e0fac button.colab-df-convert');\n",
              "      buttonEl.style.display =\n",
              "        google.colab.kernel.accessAllowed ? 'block' : 'none';\n",
              "\n",
              "      async function convertToInteractive(key) {\n",
              "        const element = document.querySelector('#df-63820a47-0d48-48dc-a362-767dba8e0fac');\n",
              "        const dataTable =\n",
              "          await google.colab.kernel.invokeFunction('convertToInteractive',\n",
              "                                                    [key], {});\n",
              "        if (!dataTable) return;\n",
              "\n",
              "        const docLinkHtml = 'Like what you see? Visit the ' +\n",
              "          '<a target=\"_blank\" href=https://colab.research.google.com/notebooks/data_table.ipynb>data table notebook</a>'\n",
              "          + ' to learn more about interactive tables.';\n",
              "        element.innerHTML = '';\n",
              "        dataTable['output_type'] = 'display_data';\n",
              "        await google.colab.output.renderOutput(dataTable, element);\n",
              "        const docLink = document.createElement('div');\n",
              "        docLink.innerHTML = docLinkHtml;\n",
              "        element.appendChild(docLink);\n",
              "      }\n",
              "    </script>\n",
              "  </div>\n",
              "\n",
              "\n",
              "    <div id=\"df-c229878d-d6a2-4426-9099-3b7edd489b76\">\n",
              "      <button class=\"colab-df-quickchart\" onclick=\"quickchart('df-c229878d-d6a2-4426-9099-3b7edd489b76')\"\n",
              "                title=\"Suggest charts\"\n",
              "                style=\"display:none;\">\n",
              "\n",
              "<svg xmlns=\"http://www.w3.org/2000/svg\" height=\"24px\"viewBox=\"0 0 24 24\"\n",
              "     width=\"24px\">\n",
              "    <g>\n",
              "        <path d=\"M19 3H5c-1.1 0-2 .9-2 2v14c0 1.1.9 2 2 2h14c1.1 0 2-.9 2-2V5c0-1.1-.9-2-2-2zM9 17H7v-7h2v7zm4 0h-2V7h2v10zm4 0h-2v-4h2v4z\"/>\n",
              "    </g>\n",
              "</svg>\n",
              "      </button>\n",
              "\n",
              "<style>\n",
              "  .colab-df-quickchart {\n",
              "      --bg-color: #E8F0FE;\n",
              "      --fill-color: #1967D2;\n",
              "      --hover-bg-color: #E2EBFA;\n",
              "      --hover-fill-color: #174EA6;\n",
              "      --disabled-fill-color: #AAA;\n",
              "      --disabled-bg-color: #DDD;\n",
              "  }\n",
              "\n",
              "  [theme=dark] .colab-df-quickchart {\n",
              "      --bg-color: #3B4455;\n",
              "      --fill-color: #D2E3FC;\n",
              "      --hover-bg-color: #434B5C;\n",
              "      --hover-fill-color: #FFFFFF;\n",
              "      --disabled-bg-color: #3B4455;\n",
              "      --disabled-fill-color: #666;\n",
              "  }\n",
              "\n",
              "  .colab-df-quickchart {\n",
              "    background-color: var(--bg-color);\n",
              "    border: none;\n",
              "    border-radius: 50%;\n",
              "    cursor: pointer;\n",
              "    display: none;\n",
              "    fill: var(--fill-color);\n",
              "    height: 32px;\n",
              "    padding: 0;\n",
              "    width: 32px;\n",
              "  }\n",
              "\n",
              "  .colab-df-quickchart:hover {\n",
              "    background-color: var(--hover-bg-color);\n",
              "    box-shadow: 0 1px 2px rgba(60, 64, 67, 0.3), 0 1px 3px 1px rgba(60, 64, 67, 0.15);\n",
              "    fill: var(--button-hover-fill-color);\n",
              "  }\n",
              "\n",
              "  .colab-df-quickchart-complete:disabled,\n",
              "  .colab-df-quickchart-complete:disabled:hover {\n",
              "    background-color: var(--disabled-bg-color);\n",
              "    fill: var(--disabled-fill-color);\n",
              "    box-shadow: none;\n",
              "  }\n",
              "\n",
              "  .colab-df-spinner {\n",
              "    border: 2px solid var(--fill-color);\n",
              "    border-color: transparent;\n",
              "    border-bottom-color: var(--fill-color);\n",
              "    animation:\n",
              "      spin 1s steps(1) infinite;\n",
              "  }\n",
              "\n",
              "  @keyframes spin {\n",
              "    0% {\n",
              "      border-color: transparent;\n",
              "      border-bottom-color: var(--fill-color);\n",
              "      border-left-color: var(--fill-color);\n",
              "    }\n",
              "    20% {\n",
              "      border-color: transparent;\n",
              "      border-left-color: var(--fill-color);\n",
              "      border-top-color: var(--fill-color);\n",
              "    }\n",
              "    30% {\n",
              "      border-color: transparent;\n",
              "      border-left-color: var(--fill-color);\n",
              "      border-top-color: var(--fill-color);\n",
              "      border-right-color: var(--fill-color);\n",
              "    }\n",
              "    40% {\n",
              "      border-color: transparent;\n",
              "      border-right-color: var(--fill-color);\n",
              "      border-top-color: var(--fill-color);\n",
              "    }\n",
              "    60% {\n",
              "      border-color: transparent;\n",
              "      border-right-color: var(--fill-color);\n",
              "    }\n",
              "    80% {\n",
              "      border-color: transparent;\n",
              "      border-right-color: var(--fill-color);\n",
              "      border-bottom-color: var(--fill-color);\n",
              "    }\n",
              "    90% {\n",
              "      border-color: transparent;\n",
              "      border-bottom-color: var(--fill-color);\n",
              "    }\n",
              "  }\n",
              "</style>\n",
              "\n",
              "      <script>\n",
              "        async function quickchart(key) {\n",
              "          const quickchartButtonEl =\n",
              "            document.querySelector('#' + key + ' button');\n",
              "          quickchartButtonEl.disabled = true;  // To prevent multiple clicks.\n",
              "          quickchartButtonEl.classList.add('colab-df-spinner');\n",
              "          try {\n",
              "            const charts = await google.colab.kernel.invokeFunction(\n",
              "                'suggestCharts', [key], {});\n",
              "          } catch (error) {\n",
              "            console.error('Error during call to suggestCharts:', error);\n",
              "          }\n",
              "          quickchartButtonEl.classList.remove('colab-df-spinner');\n",
              "          quickchartButtonEl.classList.add('colab-df-quickchart-complete');\n",
              "        }\n",
              "        (() => {\n",
              "          let quickchartButtonEl =\n",
              "            document.querySelector('#df-c229878d-d6a2-4426-9099-3b7edd489b76 button');\n",
              "          quickchartButtonEl.style.display =\n",
              "            google.colab.kernel.accessAllowed ? 'block' : 'none';\n",
              "        })();\n",
              "      </script>\n",
              "    </div>\n",
              "\n",
              "    </div>\n",
              "  </div>\n"
            ],
            "application/vnd.google.colaboratory.intrinsic+json": {
              "type": "dataframe",
              "variable_name": "missing_summary",
              "summary": "{\n  \"name\": \"missing_summary\",\n  \"rows\": 41,\n  \"fields\": [\n    {\n      \"column\": \"missing_count\",\n      \"properties\": {\n        \"dtype\": \"number\",\n        \"std\": 17983,\n        \"min\": 0,\n        \"max\": 43006,\n        \"num_unique_values\": 7,\n        \"samples\": [\n          43006,\n          40929,\n          32509\n        ],\n        \"semantic_type\": \"\",\n        \"description\": \"\"\n      }\n    },\n    {\n      \"column\": \"missing_pct\",\n      \"properties\": {\n        \"dtype\": \"number\",\n        \"std\": 36.54422500337859,\n        \"min\": 0.0,\n        \"max\": 87.39,\n        \"num_unique_values\": 7,\n        \"samples\": [\n          87.39,\n          83.17,\n          66.06\n        ],\n        \"semantic_type\": \"\",\n        \"description\": \"\"\n      }\n    }\n  ]\n}"
            }
          },
          "metadata": {},
          "execution_count": 3
        }
      ]
    },
    {
      "cell_type": "markdown",
      "source": [
        "Ich habe eine Übersicht erstellt, die sowohl die absolute Anzahl als auch den prozentualen Anteil der fehlenden Werte pro Spalte zeigt.\n",
        "\n",
        "Meine Überlegung für den Umgang damit:\n",
        "\n",
        "* **Strukturelle Nulls behalten**\n",
        "\n",
        "  * Spalten wie hotel_name, nights, rooms oder base_fare_usd haben viele Nullwerte, weil nicht jede Session eine Buchung enthält. Diese Nulls sind erwartet und geben wichtige Information: sie zeigen, dass kein Flug/Hotel gebucht wurde.\n",
        "\n",
        "  * Diese Werte werde ich nicht ersetzen, sondern bewusst als Indikator nutzen.\n",
        "\n",
        "* **Numerische Felder mit NaN → sinnvoll auffüllen**\n",
        "\n",
        "  * Für Felder wie checked_bags oder discount_amount kann man Nulls sinnvoll durch 0 ersetzen, da keine Angabe hier logisch „keine Bags“ oder „kein Rabatt“ bedeutet.\n",
        "\n",
        "* **Kritische Felder prüfen**\n",
        "\n",
        "  * Felder wie departure_time oder return_time sind bei Flugbuchungen wichtig. Hier werde ich prüfen, ob die Nullwerte logisch sind (z. B. keine Flugbuchung) oder ob Datenfehler vorliegen.\n",
        "\n",
        "* **Droppen nur in Ausnahmefällen**\n",
        "\n",
        "  * Spalten mit sehr hoher Quote an fehlenden Werten (z. B. >90 %) oder solche, die für die spätere Segmentierung keinen Mehrwert bringen, könnte ich später entfernen.\n",
        "\n",
        "  * Ebenso könnten einzelne Zeilen mit inkonsistenten Nullwert-Kombinationen (z. B. hotel_booked=True, aber hotel_name=NaN) gedroppt werden.\n",
        "\n",
        "Damit habe ich die Grundlage gelegt, um im nächsten Schritt gezielt Null-Werte zu behandeln – also zu entscheiden, wo ich auffüllen, wo ich beibehalten und wo ich löschen werde."
      ],
      "metadata": {
        "id": "aPJsIBeukCSp"
      }
    },
    {
      "cell_type": "markdown",
      "source": [
        "## 🧹 4: Behandlung der wichtigsten Null-Spalten"
      ],
      "metadata": {
        "id": "t_Lj4pl_kbG5"
      }
    },
    {
      "cell_type": "code",
      "source": [
        "# 1. Discounts: fehlende Werte → 0 (kein Rabatt)\n",
        "df[\"flight_discount_amount\"] = df[\"flight_discount_amount\"].fillna(0)\n",
        "df[\"hotel_discount_amount\"] = df[\"hotel_discount_amount\"].fillna(0)\n",
        "\n",
        "# 2. Checked Bags: fehlend → 0 (kein Gepäck aufgegeben)\n",
        "df[\"checked_bags\"] = df[\"checked_bags\"].fillna(0)\n",
        "\n",
        "# 3. Rooms & Nights: fehlend → 0 (kein Hotel gebucht)\n",
        "df[\"rooms\"] = df[\"rooms\"].fillna(0)\n",
        "df[\"nights\"] = df[\"nights\"].fillna(0)\n",
        "\n",
        "# 4. Hotel Price per Room: fehlend → 0 (nur wenn kein Hotel gebucht)\n",
        "df[\"hotel_price_per_room_night_usd\"] = df[\"hotel_price_per_room_night_usd\"].fillna(0)\n",
        "\n",
        "# 5. Base Fare: fehlend → 0 (nur wenn kein Flug gebucht)\n",
        "df[\"base_fare_usd\"] = df[\"base_fare_usd\"].fillna(0)\n",
        "\n",
        "# Kontrollausgabe: prüfen, ob die Spalten jetzt keine NaNs mehr enthalten\n",
        "df[[\"flight_discount_amount\", \"hotel_discount_amount\", \"checked_bags\",\n",
        "    \"rooms\", \"nights\", \"hotel_price_per_room_night_usd\", \"base_fare_usd\"]].isnull().sum()"
      ],
      "metadata": {
        "colab": {
          "base_uri": "https://localhost:8080/",
          "height": 304
        },
        "id": "yylG66z2ke1R",
        "outputId": "728f03ab-b0c6-47a0-c8a4-fac503758671"
      },
      "execution_count": null,
      "outputs": [
        {
          "output_type": "execute_result",
          "data": {
            "text/plain": [
              "flight_discount_amount            0\n",
              "hotel_discount_amount             0\n",
              "checked_bags                      0\n",
              "rooms                             0\n",
              "nights                            0\n",
              "hotel_price_per_room_night_usd    0\n",
              "base_fare_usd                     0\n",
              "dtype: int64"
            ],
            "text/html": [
              "<div>\n",
              "<style scoped>\n",
              "    .dataframe tbody tr th:only-of-type {\n",
              "        vertical-align: middle;\n",
              "    }\n",
              "\n",
              "    .dataframe tbody tr th {\n",
              "        vertical-align: top;\n",
              "    }\n",
              "\n",
              "    .dataframe thead th {\n",
              "        text-align: right;\n",
              "    }\n",
              "</style>\n",
              "<table border=\"1\" class=\"dataframe\">\n",
              "  <thead>\n",
              "    <tr style=\"text-align: right;\">\n",
              "      <th></th>\n",
              "      <th>0</th>\n",
              "    </tr>\n",
              "  </thead>\n",
              "  <tbody>\n",
              "    <tr>\n",
              "      <th>flight_discount_amount</th>\n",
              "      <td>0</td>\n",
              "    </tr>\n",
              "    <tr>\n",
              "      <th>hotel_discount_amount</th>\n",
              "      <td>0</td>\n",
              "    </tr>\n",
              "    <tr>\n",
              "      <th>checked_bags</th>\n",
              "      <td>0</td>\n",
              "    </tr>\n",
              "    <tr>\n",
              "      <th>rooms</th>\n",
              "      <td>0</td>\n",
              "    </tr>\n",
              "    <tr>\n",
              "      <th>nights</th>\n",
              "      <td>0</td>\n",
              "    </tr>\n",
              "    <tr>\n",
              "      <th>hotel_price_per_room_night_usd</th>\n",
              "      <td>0</td>\n",
              "    </tr>\n",
              "    <tr>\n",
              "      <th>base_fare_usd</th>\n",
              "      <td>0</td>\n",
              "    </tr>\n",
              "  </tbody>\n",
              "</table>\n",
              "</div><br><label><b>dtype:</b> int64</label>"
            ]
          },
          "metadata": {},
          "execution_count": 4
        }
      ]
    },
    {
      "cell_type": "markdown",
      "source": [
        "Ich habe mich entschieden, bei numerischen Spalten die fehlenden Werte sinnvoll mit 0 zu ersetzen, wenn es logisch ist:\n",
        "\n",
        "* **Discount-Spalten** (flight_discount_amount, hotel_discount_amount):\n",
        "\n",
        "  Wenn kein Rabatt angeboten wurde, ist der Wert 0. Fehlende Werte deuten hier nicht auf ein Datenproblem hin, sondern schlicht auf „kein Discount“.\n",
        "\n",
        "* checked_bags:\n",
        "\n",
        "  Wenn keine Angaben vorliegen, gehe ich davon aus, dass keine Koffer aufgegeben wurden → Wert = 0.\n",
        "\n",
        "* **Hotel-bezogene Felder** (rooms, nights, hotel_price_per_room_night_usd):\n",
        "\n",
        "  Fehlende Werte hier bedeuten, dass kein Hotel gebucht wurde. Deshalb macht es Sinn, sie als 0 zu setzen.\n",
        "\n",
        "* base_fare_usd:\n",
        "\n",
        "  Auch hier gilt: wenn kein Flug gebucht wurde, ist der Basispreis 0.\n",
        "\n",
        "Damit habe ich erreicht, dass diese Spalten keine NaNs mehr enthalten, ohne dabei die Logik der Daten zu verfälschen."
      ],
      "metadata": {
        "id": "221szDtekpfD"
      }
    },
    {
      "cell_type": "markdown",
      "source": [
        "## 🕒 5: Zeitbasierte Spalten prüfen"
      ],
      "metadata": {
        "id": "3OQIvmHGk22K"
      }
    },
    {
      "cell_type": "code",
      "source": [
        "# Sicherstellen, dass alle relevanten Spalten als Datetime gelesen werden\n",
        "time_cols = [\n",
        "    \"session_start\", \"session_end\",\n",
        "    \"departure_time\", \"return_time\",\n",
        "    \"check_in_time\", \"check_out_time\",\n",
        "    \"sign_up_date\", \"birthdate\"\n",
        "]\n",
        "\n",
        "for col in time_cols:\n",
        "    if col in df.columns:\n",
        "        df[col] = pd.to_datetime(df[col], errors=\"coerce\")\n",
        "\n",
        "# 1. Session-Dauer in Minuten berechnen\n",
        "df[\"session_minutes\"] = (df[\"session_end\"] - df[\"session_start\"]).dt.total_seconds() / 60\n",
        "\n",
        "# 2. Negative oder Null-Dauern prüfen\n",
        "session_issues = df[df[\"session_minutes\"] <= 0]\n",
        "\n",
        "# 3. Flugzeiten prüfen: Rückflug darf nicht vor Abflug liegen\n",
        "flight_issues = df[(df[\"return_time\"].notna()) & (df[\"departure_time\"].notna()) &\n",
        "                   (df[\"return_time\"] < df[\"departure_time\"])]\n",
        "\n",
        "# 4. Hotelzeiten prüfen: Check-Out darf nicht vor Check-In liegen\n",
        "hotel_issues = df[(df[\"check_out_time\"].notna()) & (df[\"check_in_time\"].notna()) &\n",
        "                  (df[\"check_out_time\"] < df[\"check_in_time\"])]\n",
        "\n",
        "print(\"⚠️ Sessions mit 0 oder negativer Dauer:\", len(session_issues))\n",
        "print(\"⚠️ Flüge mit Rückflug vor Abflug:\", len(flight_issues))\n",
        "print(\"⚠️ Hotels mit Check-Out vor Check-In:\", len(hotel_issues))"
      ],
      "metadata": {
        "colab": {
          "base_uri": "https://localhost:8080/"
        },
        "id": "Xwg2Nstsk9Od",
        "outputId": "1fd4a227-0593-4e5b-b148-ab26e8668fd6"
      },
      "execution_count": null,
      "outputs": [
        {
          "output_type": "stream",
          "name": "stdout",
          "text": [
            "⚠️ Sessions mit 0 oder negativer Dauer: 0\n",
            "⚠️ Flüge mit Rückflug vor Abflug: 0\n",
            "⚠️ Hotels mit Check-Out vor Check-In: 231\n"
          ]
        }
      ]
    },
    {
      "cell_type": "markdown",
      "source": [
        "Ich habe die zeitbezogenen Spalten in ein einheitliches Datetime-Format konvertiert, um sie konsistent analysieren zu können. Danach habe ich Plausibilitätsprüfungen durchgeführt:\n",
        "\n",
        "* **Session-Dauer** (session_minutes)\n",
        "\n",
        "  * Ich habe die Differenz zwischen session_end und session_start berechnet.\n",
        "\n",
        "  * Sessions mit einer Dauer von 0 oder weniger Minuten deuten auf Fehler im Datensatz hin. Diese werde ich markieren und später entscheiden, ob sie entfernt werden.\n",
        "\n",
        "* **Flugdaten** (departure_time, return_time)\n",
        "\n",
        "  * Ein Rückflug darf logisch nicht vor dem Abflug liegen. Ich habe alle Fälle markiert, in denen return_time < departure_time.\n",
        "\n",
        "* **Hoteldaten** (check_in_time, check_out_time)\n",
        "\n",
        "  * Auch hier gilt: Check-Out darf nicht vor Check-In sein. Alle Zeilen, die gegen diese Logik verstoßen, habe ich identifiziert.\n",
        "\n",
        "Damit habe ich jetzt einen Überblick, wo zeitliche Inkonsistenzen im Datensatz vorliegen. Diese Informationen helfen mir zu entscheiden, ob ich die betroffenen Zeilen droppen oder korrigieren sollte."
      ],
      "metadata": {
        "id": "3hVtShCFlIlH"
      }
    },
    {
      "cell_type": "markdown",
      "source": [
        "## 📊 6: Visualisierung der Session-Dauer"
      ],
      "metadata": {
        "id": "GmYDjtqamHi5"
      }
    },
    {
      "cell_type": "code",
      "source": [
        "import matplotlib.pyplot as plt\n",
        "import seaborn as sns\n",
        "\n",
        "# Verteilung der Session-Dauer\n",
        "plt.figure(figsize=(10,6))\n",
        "sns.histplot(df[\"session_minutes\"], bins=50, kde=True, color=\"steelblue\")\n",
        "plt.title(\"Verteilung der Session-Dauer (Minuten)\", fontsize=14)\n",
        "plt.xlabel(\"Session-Dauer (Minuten)\")\n",
        "plt.ylabel(\"Anzahl Sessions\")\n",
        "plt.xlim(0, 120)  # auf 2 Stunden begrenzen für bessere Sichtbarkeit\n",
        "plt.show()\n",
        "\n",
        "# Boxplot zur Erkennung von Ausreißern\n",
        "plt.figure(figsize=(8,4))\n",
        "sns.boxplot(x=df[\"session_minutes\"], color=\"lightblue\")\n",
        "plt.title(\"Boxplot der Session-Dauer\", fontsize=14)\n",
        "plt.xlabel(\"Session-Dauer (Minuten)\")\n",
        "plt.show()"
      ],
      "metadata": {
        "colab": {
          "base_uri": "https://localhost:8080/",
          "height": 959
        },
        "id": "pF-wIwqJmJbb",
        "outputId": "20e0dca1-1a23-438c-a4ac-9e3d2b645643"
      },
      "execution_count": null,
      "outputs": [
        {
          "output_type": "display_data",
          "data": {
            "text/plain": [
              "<Figure size 1000x600 with 1 Axes>"
            ],
            "image/png": "[encoded data removed]"
          },
          "metadata": {}
        },
        {
          "output_type": "display_data",
          "data": {
            "text/plain": [
              "<Figure size 800x400 with 1 Axes>"
            ],
            "image/png": "[encoded data removed]"
          },
          "metadata": {}
        }
      ]
    },
    {
      "cell_type": "markdown",
      "source": [
        "Um ein Gefühl für die Session-Dauer zu bekommen, habe ich zwei Visualisierungen erstellt:\n",
        "\n",
        "* **Histogramm**:\n",
        "\n",
        "  Die meisten Sessions dauern nur wenige Minuten. Es gibt einen klaren Peak im Bereich 0–20 Minuten, danach nimmt die Häufigkeit stark ab. Sessions über 60 Minuten sind selten und könnten als Ausreißer gelten.\n",
        "\n",
        "* **Boxplot**:\n",
        "\n",
        "  Der Boxplot zeigt ebenfalls, dass die Mehrheit der Sessions relativ kurz ist, aber es existieren Ausreißer mit sehr langen Dauern. Diese könnten durch Datenfehler oder durch ungewöhnliches Verhalten (z. B. extrem lange Buchungssessions) entstanden sein.\n",
        "\n",
        "Damit habe ich eine visuelle Grundlage, um zu entscheiden, welche Session-Dauern ich im weiteren Verlauf berücksichtigen möchte."
      ],
      "metadata": {
        "id": "N0N9r26WmTpK"
      }
    },
    {
      "cell_type": "markdown",
      "source": [
        "## 🚩 7: Markierung von Ausreißer-Sessions"
      ],
      "metadata": {
        "id": "8DlXVtgTnESa"
      }
    },
    {
      "cell_type": "code",
      "source": [
        "# Regeln für potenzielle Ausreißer:\n",
        "# - Sessions kürzer als 1 Minute\n",
        "# - Sessions länger als 120 Minuten\n",
        "\n",
        "df[\"outlier_session\"] = ((df[\"session_minutes\"] < 1) | (df[\"session_minutes\"] > 120)).astype(int)\n",
        "\n",
        "# Wie viele Ausreißer?\n",
        "outlier_count = df[\"outlier_session\"].sum()\n",
        "total = len(df)\n",
        "print(f\"Markierte Ausreißer-Sessions: {outlier_count} von {total} ({outlier_count/total:.2%})\")\n",
        "\n",
        "# Vergleich: durchschnittliche Klicks normal vs. Ausreißer\n",
        "df.groupby(\"outlier_session\")[\"page_clicks\"].describe()"
      ],
      "metadata": {
        "colab": {
          "base_uri": "https://localhost:8080/",
          "height": 161
        },
        "id": "NW2i-kiQnGG-",
        "outputId": "bc6f7304-b630-4c84-9ee6-d9df453a5137"
      },
      "execution_count": null,
      "outputs": [
        {
          "output_type": "stream",
          "name": "stdout",
          "text": [
            "Markierte Ausreißer-Sessions: 16361 von 49211 (33.25%)\n"
          ]
        },
        {
          "output_type": "execute_result",
          "data": {
            "text/plain": [
              "                   count       mean        std  min   25%   50%   75%    max\n",
              "outlier_session                                                             \n",
              "0                32850.0  24.066393  23.755976  8.0  13.0  19.0  26.0  566.0\n",
              "1                16361.0   4.582911   1.829228  1.0   3.0   5.0   6.0    8.0"
            ],
            "text/html": [
              "\n",
              "  <div id=\"df-9d18de19-5555-4080-ae71-85e7b29d11f8\" class=\"colab-df-container\">\n",
              "    <div>\n",
              "<style scoped>\n",
              "    .dataframe tbody tr th:only-of-type {\n",
              "        vertical-align: middle;\n",
              "    }\n",
              "\n",
              "    .dataframe tbody tr th {\n",
              "        vertical-align: top;\n",
              "    }\n",
              "\n",
              "    .dataframe thead th {\n",
              "        text-align: right;\n",
              "    }\n",
              "</style>\n",
              "<table border=\"1\" class=\"dataframe\">\n",
              "  <thead>\n",
              "    <tr style=\"text-align: right;\">\n",
              "      <th></th>\n",
              "      <th>count</th>\n",
              "      <th>mean</th>\n",
              "      <th>std</th>\n",
              "      <th>min</th>\n",
              "      <th>25%</th>\n",
              "      <th>50%</th>\n",
              "      <th>75%</th>\n",
              "      <th>max</th>\n",
              "    </tr>\n",
              "    <tr>\n",
              "      <th>outlier_session</th>\n",
              "      <th></th>\n",
              "      <th></th>\n",
              "      <th></th>\n",
              "      <th></th>\n",
              "      <th></th>\n",
              "      <th></th>\n",
              "      <th></th>\n",
              "      <th></th>\n",
              "    </tr>\n",
              "  </thead>\n",
              "  <tbody>\n",
              "    <tr>\n",
              "      <th>0</th>\n",
              "      <td>32850.0</td>\n",
              "      <td>24.066393</td>\n",
              "      <td>23.755976</td>\n",
              "      <td>8.0</td>\n",
              "      <td>13.0</td>\n",
              "      <td>19.0</td>\n",
              "      <td>26.0</td>\n",
              "      <td>566.0</td>\n",
              "    </tr>\n",
              "    <tr>\n",
              "      <th>1</th>\n",
              "      <td>16361.0</td>\n",
              "      <td>4.582911</td>\n",
              "      <td>1.829228</td>\n",
              "      <td>1.0</td>\n",
              "      <td>3.0</td>\n",
              "      <td>5.0</td>\n",
              "      <td>6.0</td>\n",
              "      <td>8.0</td>\n",
              "    </tr>\n",
              "  </tbody>\n",
              "</table>\n",
              "</div>\n",
              "    <div class=\"colab-df-buttons\">\n",
              "\n",
              "  <div class=\"colab-df-container\">\n",
              "    <button class=\"colab-df-convert\" onclick=\"convertToInteractive('df-9d18de19-5555-4080-ae71-85e7b29d11f8')\"\n",
              "            title=\"Convert this dataframe to an interactive table.\"\n",
              "            style=\"display:none;\">\n",
              "\n",
              "  <svg xmlns=\"http://www.w3.org/2000/svg\" height=\"24px\" viewBox=\"0 -960 960 960\">\n",
              "    <path d=\"M120-120v-720h720v720H120Zm60-500h600v-160H180v160Zm220 220h160v-160H400v160Zm0 220h160v-160H400v160ZM180-400h160v-160H180v160Zm440 0h160v-160H620v160ZM180-180h160v-160H180v160Zm440 0h160v-160H620v160Z\"/>\n",
              "  </svg>\n",
              "    </button>\n",
              "\n",
              "  <style>\n",
              "    .colab-df-container {\n",
              "      display:flex;\n",
              "      gap: 12px;\n",
              "    }\n",
              "\n",
              "    .colab-df-convert {\n",
              "      background-color: #E8F0FE;\n",
              "      border: none;\n",
              "      border-radius: 50%;\n",
              "      cursor: pointer;\n",
              "      display: none;\n",
              "      fill: #1967D2;\n",
              "      height: 32px;\n",
              "      padding: 0 0 0 0;\n",
              "      width: 32px;\n",
              "    }\n",
              "\n",
              "    .colab-df-convert:hover {\n",
              "      background-color: #E2EBFA;\n",
              "      box-shadow: 0px 1px 2px rgba(60, 64, 67, 0.3), 0px 1px 3px 1px rgba(60, 64, 67, 0.15);\n",
              "      fill: #174EA6;\n",
              "    }\n",
              "\n",
              "    .colab-df-buttons div {\n",
              "      margin-bottom: 4px;\n",
              "    }\n",
              "\n",
              "    [theme=dark] .colab-df-convert {\n",
              "      background-color: #3B4455;\n",
              "      fill: #D2E3FC;\n",
              "    }\n",
              "\n",
              "    [theme=dark] .colab-df-convert:hover {\n",
              "      background-color: #434B5C;\n",
              "      box-shadow: 0px 1px 3px 1px rgba(0, 0, 0, 0.15);\n",
              "      filter: drop-shadow(0px 1px 2px rgba(0, 0, 0, 0.3));\n",
              "      fill: #FFFFFF;\n",
              "    }\n",
              "  </style>\n",
              "\n",
              "    <script>\n",
              "      const buttonEl =\n",
              "        document.querySelector('#df-9d18de19-5555-4080-ae71-85e7b29d11f8 button.colab-df-convert');\n",
              "      buttonEl.style.display =\n",
              "        google.colab.kernel.accessAllowed ? 'block' : 'none';\n",
              "\n",
              "      async function convertToInteractive(key) {\n",
              "        const element = document.querySelector('#df-9d18de19-5555-4080-ae71-85e7b29d11f8');\n",
              "        const dataTable =\n",
              "          await google.colab.kernel.invokeFunction('convertToInteractive',\n",
              "                                                    [key], {});\n",
              "        if (!dataTable) return;\n",
              "\n",
              "        const docLinkHtml = 'Like what you see? Visit the ' +\n",
              "          '<a target=\"_blank\" href=https://colab.research.google.com/notebooks/data_table.ipynb>data table notebook</a>'\n",
              "          + ' to learn more about interactive tables.';\n",
              "        element.innerHTML = '';\n",
              "        dataTable['output_type'] = 'display_data';\n",
              "        await google.colab.output.renderOutput(dataTable, element);\n",
              "        const docLink = document.createElement('div');\n",
              "        docLink.innerHTML = docLinkHtml;\n",
              "        element.appendChild(docLink);\n",
              "      }\n",
              "    </script>\n",
              "  </div>\n",
              "\n",
              "\n",
              "    <div id=\"df-0b07eb0d-226b-4bff-8d08-46d69f3f5f62\">\n",
              "      <button class=\"colab-df-quickchart\" onclick=\"quickchart('df-0b07eb0d-226b-4bff-8d08-46d69f3f5f62')\"\n",
              "                title=\"Suggest charts\"\n",
              "                style=\"display:none;\">\n",
              "\n",
              "<svg xmlns=\"http://www.w3.org/2000/svg\" height=\"24px\"viewBox=\"0 0 24 24\"\n",
              "     width=\"24px\">\n",
              "    <g>\n",
              "        <path d=\"M19 3H5c-1.1 0-2 .9-2 2v14c0 1.1.9 2 2 2h14c1.1 0 2-.9 2-2V5c0-1.1-.9-2-2-2zM9 17H7v-7h2v7zm4 0h-2V7h2v10zm4 0h-2v-4h2v4z\"/>\n",
              "    </g>\n",
              "</svg>\n",
              "      </button>\n",
              "\n",
              "<style>\n",
              "  .colab-df-quickchart {\n",
              "      --bg-color: #E8F0FE;\n",
              "      --fill-color: #1967D2;\n",
              "      --hover-bg-color: #E2EBFA;\n",
              "      --hover-fill-color: #174EA6;\n",
              "      --disabled-fill-color: #AAA;\n",
              "      --disabled-bg-color: #DDD;\n",
              "  }\n",
              "\n",
              "  [theme=dark] .colab-df-quickchart {\n",
              "      --bg-color: #3B4455;\n",
              "      --fill-color: #D2E3FC;\n",
              "      --hover-bg-color: #434B5C;\n",
              "      --hover-fill-color: #FFFFFF;\n",
              "      --disabled-bg-color: #3B4455;\n",
              "      --disabled-fill-color: #666;\n",
              "  }\n",
              "\n",
              "  .colab-df-quickchart {\n",
              "    background-color: var(--bg-color);\n",
              "    border: none;\n",
              "    border-radius: 50%;\n",
              "    cursor: pointer;\n",
              "    display: none;\n",
              "    fill: var(--fill-color);\n",
              "    height: 32px;\n",
              "    padding: 0;\n",
              "    width: 32px;\n",
              "  }\n",
              "\n",
              "  .colab-df-quickchart:hover {\n",
              "    background-color: var(--hover-bg-color);\n",
              "    box-shadow: 0 1px 2px rgba(60, 64, 67, 0.3), 0 1px 3px 1px rgba(60, 64, 67, 0.15);\n",
              "    fill: var(--button-hover-fill-color);\n",
              "  }\n",
              "\n",
              "  .colab-df-quickchart-complete:disabled,\n",
              "  .colab-df-quickchart-complete:disabled:hover {\n",
              "    background-color: var(--disabled-bg-color);\n",
              "    fill: var(--disabled-fill-color);\n",
              "    box-shadow: none;\n",
              "  }\n",
              "\n",
              "  .colab-df-spinner {\n",
              "    border: 2px solid var(--fill-color);\n",
              "    border-color: transparent;\n",
              "    border-bottom-color: var(--fill-color);\n",
              "    animation:\n",
              "      spin 1s steps(1) infinite;\n",
              "  }\n",
              "\n",
              "  @keyframes spin {\n",
              "    0% {\n",
              "      border-color: transparent;\n",
              "      border-bottom-color: var(--fill-color);\n",
              "      border-left-color: var(--fill-color);\n",
              "    }\n",
              "    20% {\n",
              "      border-color: transparent;\n",
              "      border-left-color: var(--fill-color);\n",
              "      border-top-color: var(--fill-color);\n",
              "    }\n",
              "    30% {\n",
              "      border-color: transparent;\n",
              "      border-left-color: var(--fill-color);\n",
              "      border-top-color: var(--fill-color);\n",
              "      border-right-color: var(--fill-color);\n",
              "    }\n",
              "    40% {\n",
              "      border-color: transparent;\n",
              "      border-right-color: var(--fill-color);\n",
              "      border-top-color: var(--fill-color);\n",
              "    }\n",
              "    60% {\n",
              "      border-color: transparent;\n",
              "      border-right-color: var(--fill-color);\n",
              "    }\n",
              "    80% {\n",
              "      border-color: transparent;\n",
              "      border-right-color: var(--fill-color);\n",
              "      border-bottom-color: var(--fill-color);\n",
              "    }\n",
              "    90% {\n",
              "      border-color: transparent;\n",
              "      border-bottom-color: var(--fill-color);\n",
              "    }\n",
              "  }\n",
              "</style>\n",
              "\n",
              "      <script>\n",
              "        async function quickchart(key) {\n",
              "          const quickchartButtonEl =\n",
              "            document.querySelector('#' + key + ' button');\n",
              "          quickchartButtonEl.disabled = true;  // To prevent multiple clicks.\n",
              "          quickchartButtonEl.classList.add('colab-df-spinner');\n",
              "          try {\n",
              "            const charts = await google.colab.kernel.invokeFunction(\n",
              "                'suggestCharts', [key], {});\n",
              "          } catch (error) {\n",
              "            console.error('Error during call to suggestCharts:', error);\n",
              "          }\n",
              "          quickchartButtonEl.classList.remove('colab-df-spinner');\n",
              "          quickchartButtonEl.classList.add('colab-df-quickchart-complete');\n",
              "        }\n",
              "        (() => {\n",
              "          let quickchartButtonEl =\n",
              "            document.querySelector('#df-0b07eb0d-226b-4bff-8d08-46d69f3f5f62 button');\n",
              "          quickchartButtonEl.style.display =\n",
              "            google.colab.kernel.accessAllowed ? 'block' : 'none';\n",
              "        })();\n",
              "      </script>\n",
              "    </div>\n",
              "\n",
              "    </div>\n",
              "  </div>\n"
            ],
            "application/vnd.google.colaboratory.intrinsic+json": {
              "type": "dataframe",
              "summary": "{\n  \"name\": \"df\",\n  \"rows\": 2,\n  \"fields\": [\n    {\n      \"column\": \"outlier_session\",\n      \"properties\": {\n        \"dtype\": \"number\",\n        \"std\": 0,\n        \"min\": 0,\n        \"max\": 1,\n        \"num_unique_values\": 2,\n        \"samples\": [\n          1,\n          0\n        ],\n        \"semantic_type\": \"\",\n        \"description\": \"\"\n      }\n    },\n    {\n      \"column\": \"count\",\n      \"properties\": {\n        \"dtype\": \"number\",\n        \"std\": 11659.483714984983,\n        \"min\": 16361.0,\n        \"max\": 32850.0,\n        \"num_unique_values\": 2,\n        \"samples\": [\n          16361.0,\n          32850.0\n        ],\n        \"semantic_type\": \"\",\n        \"description\": \"\"\n      }\n    },\n    {\n      \"column\": \"mean\",\n      \"properties\": {\n        \"dtype\": \"number\",\n        \"std\": 13.77690232395462,\n        \"min\": 4.582910580037895,\n        \"max\": 24.06639269406393,\n        \"num_unique_values\": 2,\n        \"samples\": [\n          4.582910580037895,\n          24.06639269406393\n        ],\n        \"semantic_type\": \"\",\n        \"description\": \"\"\n      }\n    },\n    {\n      \"column\": \"std\",\n      \"properties\": {\n        \"dtype\": \"number\",\n        \"std\": 15.50455202475594,\n        \"min\": 1.8292278923196108,\n        \"max\": 23.755975644248693,\n        \"num_unique_values\": 2,\n        \"samples\": [\n          1.8292278923196108,\n          23.755975644248693\n        ],\n        \"semantic_type\": \"\",\n        \"description\": \"\"\n      }\n    },\n    {\n      \"column\": \"min\",\n      \"properties\": {\n        \"dtype\": \"number\",\n        \"std\": 4.949747468305833,\n        \"min\": 1.0,\n        \"max\": 8.0,\n        \"num_unique_values\": 2,\n        \"samples\": [\n          1.0,\n          8.0\n        ],\n        \"semantic_type\": \"\",\n        \"description\": \"\"\n      }\n    },\n    {\n      \"column\": \"25%\",\n      \"properties\": {\n        \"dtype\": \"number\",\n        \"std\": 7.0710678118654755,\n        \"min\": 3.0,\n        \"max\": 13.0,\n        \"num_unique_values\": 2,\n        \"samples\": [\n          3.0,\n          13.0\n        ],\n        \"semantic_type\": \"\",\n        \"description\": \"\"\n      }\n    },\n    {\n      \"column\": \"50%\",\n      \"properties\": {\n        \"dtype\": \"number\",\n        \"std\": 9.899494936611665,\n        \"min\": 5.0,\n        \"max\": 19.0,\n        \"num_unique_values\": 2,\n        \"samples\": [\n          5.0,\n          19.0\n        ],\n        \"semantic_type\": \"\",\n        \"description\": \"\"\n      }\n    },\n    {\n      \"column\": \"75%\",\n      \"properties\": {\n        \"dtype\": \"number\",\n        \"std\": 14.142135623730951,\n        \"min\": 6.0,\n        \"max\": 26.0,\n        \"num_unique_values\": 2,\n        \"samples\": [\n          6.0,\n          26.0\n        ],\n        \"semantic_type\": \"\",\n        \"description\": \"\"\n      }\n    },\n    {\n      \"column\": \"max\",\n      \"properties\": {\n        \"dtype\": \"number\",\n        \"std\": 394.5655839020935,\n        \"min\": 8.0,\n        \"max\": 566.0,\n        \"num_unique_values\": 2,\n        \"samples\": [\n          8.0,\n          566.0\n        ],\n        \"semantic_type\": \"\",\n        \"description\": \"\"\n      }\n    }\n  ]\n}"
            }
          },
          "metadata": {},
          "execution_count": 7
        }
      ]
    },
    {
      "cell_type": "markdown",
      "source": [
        "Um mit den erkannten Ausreißern transparent umzugehen, habe ich eine zusätzliche Spalte outlier_session erstellt.\n",
        "\n",
        "* Sessions mit weniger als 1 Minute Dauer oder mehr als 120 Minuten Dauer werden dort mit 1 markiert.\n",
        "\n",
        "* Alle anderen Sessions haben den Wert 0.\n",
        "\n",
        "Damit habe ich die Möglichkeit, diese Fälle in der Analyse mitzunehmen, separat zu betrachten oder später gezielt herauszufiltern.\n",
        "\n",
        "Ein erster Vergleich zeigt:\n",
        "\n",
        "* Die Zahl der markierten Ausreißer ist relativ gering im Verhältnis zur Gesamtmenge.\n",
        "\n",
        "* Es lohnt sich, in späteren Schritten zu prüfen, ob diese Ausreißer ein ungewöhnliches Klick- oder Buchungsverhalten haben.\n",
        "\n",
        "So kann ich im weiteren Verlauf eine fundierte Entscheidung treffen, ob ich sie in der Segmentierung berücksichtige oder ausschließe."
      ],
      "metadata": {
        "id": "siSs3iPSnPJI"
      }
    },
    {
      "cell_type": "markdown",
      "source": [
        "## 🔎 8: Duplicate-Check"
      ],
      "metadata": {
        "id": "WgyBKot6ngkA"
      }
    },
    {
      "cell_type": "code",
      "source": [
        "# Prüfen auf komplett doppelte Zeilen\n",
        "duplicates_full = df[df.duplicated()]\n",
        "print(\"Komplett doppelte Zeilen:\", len(duplicates_full))\n",
        "\n",
        "# Prüfen auf doppelte Session-IDs (sollte eigentlich eindeutig sein!)\n",
        "duplicates_sessions = df[df.duplicated(subset=[\"session_id\"])]\n",
        "print(\"Doppelte Session-IDs:\", len(duplicates_sessions))\n",
        "\n",
        "# Prüfen auf doppelte Kombination aus user_id + session_start\n",
        "duplicates_user_time = df[df.duplicated(subset=[\"user_id\",\"session_start\"])]\n",
        "print(\"Doppelte user_id + session_start:\", len(duplicates_user_time))"
      ],
      "metadata": {
        "colab": {
          "base_uri": "https://localhost:8080/"
        },
        "id": "gUxxy2WpnioO",
        "outputId": "d968055b-4377-4b2a-f211-daf33f1d8019"
      },
      "execution_count": null,
      "outputs": [
        {
          "output_type": "stream",
          "name": "stdout",
          "text": [
            "Komplett doppelte Zeilen: 0\n",
            "Doppelte Session-IDs: 0\n",
            "Doppelte user_id + session_start: 0\n"
          ]
        }
      ]
    },
    {
      "cell_type": "markdown",
      "source": [
        "Ich habe den Datensatz auf Duplikate überprüft:\n",
        "\n",
        "* Komplett identische Zeilen: Diese würden auf einen direkten Fehler im Export hinweisen.\n",
        "\n",
        "* Doppelte session_id: Da jede Session-ID eigentlich eindeutig sein sollte, deuten doppelte Werte hier auf Inkonsistenzen oder Datenfehler hin.\n",
        "\n",
        "* Doppelte Kombination aus user_id + session_start: Auch diese Konstellation sollte normalerweise einzigartig sein. Wenn hier Duplikate auftreten, könnte es bedeuten, dass eine Session versehentlich mehrfach eingetragen wurde.\n",
        "\n",
        "Damit habe ich sichergestellt, dass der Datensatz keine unerkannten Wiederholungen enthält, die spätere Analysen verfälschen würden. Falls doch Duplikate auftauchen, kann ich diese gezielt entfernen."
      ],
      "metadata": {
        "id": "erjO8WTjns7B"
      }
    },
    {
      "cell_type": "markdown",
      "source": [
        "**📝 Duplicate-Check Ergebnisse**\n",
        "\n",
        "Ich habe den Datensatz auf verschiedene Arten von Duplikaten geprüft:\n",
        "\n",
        "* Komplett identische Zeilen: 0\n",
        "\n",
        "* Doppelte Session-IDs: 0\n",
        "\n",
        "* Doppelte Kombination aus user_id + session_start: 0\n",
        "\n",
        "**➡️ Ergebnis: Es gibt keine doppelten Einträge im Datensatz.**\n",
        "\n",
        "Das ist ein gutes Zeichen, denn:\n",
        "\n",
        "* Jede Session ist eindeutig über ihre session_id identifizierbar.\n",
        "\n",
        "* Sessions sind konsistent einer eindeutigen Kombination aus User und Startzeit zugeordnet.\n",
        "\n",
        "* Damit besteht kein Risiko, dass meine Analysen durch wiederholte Zeilen verfälscht werden.\n",
        "\n",
        "Ich werde diesen Schritt trotzdem dokumentieren, da die Überprüfung von Duplikaten ein fester Bestandteil jeder professionellen Datenbereinigung ist."
      ],
      "metadata": {
        "id": "tQA_tdd1ukXr"
      }
    },
    {
      "cell_type": "markdown",
      "source": [
        "## 📊 9: Numerische Variablen – Outlier Check"
      ],
      "metadata": {
        "id": "d2w7YifBuxxN"
      }
    },
    {
      "cell_type": "code",
      "source": [
        "import matplotlib.pyplot as plt\n",
        "import seaborn as sns\n",
        "\n",
        "num_cols = [\"page_clicks\", \"nights\", \"base_fare_usd\", \"hotel_price_per_room_night_usd\"]\n",
        "\n",
        "for col in num_cols:\n",
        "    if col in df.columns:\n",
        "        print(f\"\\n--- {col} ---\")\n",
        "        print(df[col].describe(percentiles=[.01,.05,.25,.5,.75,.95,.99]))\n",
        "        print(\"Anzahl negativer Werte:\", (df[col] < 0).sum())\n",
        "\n",
        "        # Histogramm (begrenzen, um extreme Werte sichtbar zu machen)\n",
        "        plt.figure(figsize=(8,4))\n",
        "        sns.histplot(df[col], bins=50, color=\"steelblue\")\n",
        "        plt.title(f\"Histogramm: {col}\", fontsize=13)\n",
        "        plt.xlabel(col)\n",
        "        plt.xlim(0, df[col].quantile(0.95))  # auf 95. Perzentil begrenzen\n",
        "        plt.show()\n",
        "\n",
        "        # Boxplot\n",
        "        plt.figure(figsize=(8,2))\n",
        "        sns.boxplot(x=df[col], color=\"lightblue\")\n",
        "        plt.title(f\"Boxplot: {col}\", fontsize=13)\n",
        "        plt.xlim(0, df[col].quantile(0.95))  # 95. Perzentil\n",
        "        plt.show()"
      ],
      "metadata": {
        "colab": {
          "base_uri": "https://localhost:8080/",
          "height": 1000
        },
        "id": "sOVjdjXEu1Uy",
        "outputId": "81f06275-4c54-4731-aea5-f258e2f84648"
      },
      "execution_count": null,
      "outputs": [
        {
          "output_type": "stream",
          "name": "stdout",
          "text": [
            "\n",
            "--- page_clicks ---\n",
            "count    49211.000000\n",
            "mean        17.588791\n",
            "std         21.495987\n",
            "min          1.000000\n",
            "1%           2.000000\n",
            "5%           3.000000\n",
            "25%          6.000000\n",
            "50%         13.000000\n",
            "75%         22.000000\n",
            "95%         43.000000\n",
            "99%        116.000000\n",
            "max        566.000000\n",
            "Name: page_clicks, dtype: float64\n",
            "Anzahl negativer Werte: 0\n"
          ]
        },
        {
          "output_type": "display_data",
          "data": {
            "text/plain": [
              "<Figure size 800x400 with 1 Axes>"
            ],
            "image/png": "[encoded data removed]"
          },
          "metadata": {}
        },
        {
          "output_type": "display_data",
          "data": {
            "text/plain": [
              "<Figure size 800x200 with 1 Axes>"
            ],
            "image/png": "[encoded data removed]"
          },
          "metadata": {}
        },
        {
          "output_type": "stream",
          "name": "stdout",
          "text": [
            "\n",
            "--- nights ---\n",
            "count    49211.000000\n",
            "mean         1.098962\n",
            "std          2.676639\n",
            "min         -2.000000\n",
            "1%           0.000000\n",
            "5%           0.000000\n",
            "25%          0.000000\n",
            "50%          0.000000\n",
            "75%          1.000000\n",
            "95%          6.000000\n",
            "99%         13.000000\n",
            "max         43.000000\n",
            "Name: nights, dtype: float64\n",
            "Anzahl negativer Werte: 107\n"
          ]
        },
        {
          "output_type": "display_data",
          "data": {
            "text/plain": [
              "<Figure size 800x400 with 1 Axes>"
            ],
            "image/png": "[encoded data removed]"
          },
          "metadata": {}
        },
        {
          "output_type": "display_data",
          "data": {
            "text/plain": [
              "<Figure size 800x200 with 1 Axes>"
            ],
            "image/png": "[encoded data removed]"
          },
          "metadata": {}
        },
        {
          "output_type": "stream",
          "name": "stdout",
          "text": [
            "\n",
            "--- base_fare_usd ---\n",
            "count    49211.000000\n",
            "mean       152.498686\n",
            "std        501.104148\n",
            "min          0.000000\n",
            "1%           0.000000\n",
            "5%           0.000000\n",
            "25%          0.000000\n",
            "50%          0.000000\n",
            "75%        115.115000\n",
            "95%        685.870000\n",
            "99%       1688.060000\n",
            "max      21548.040000\n",
            "Name: base_fare_usd, dtype: float64\n",
            "Anzahl negativer Werte: 0\n"
          ]
        },
        {
          "output_type": "display_data",
          "data": {
            "text/plain": [
              "<Figure size 800x400 with 1 Axes>"
            ],
            "image/png": "[encoded data removed]"
          },
          "metadata": {}
        },
        {
          "output_type": "display_data",
          "data": {
            "text/plain": [
              "<Figure size 800x200 with 1 Axes>"
            ],
            "image/png": "[encoded data removed]"
          },
          "metadata": {}
        },
        {
          "output_type": "stream",
          "name": "stdout",
          "text": [
            "\n",
            "--- hotel_price_per_room_night_usd ---\n",
            "count    49211.000000\n",
            "mean        53.246347\n",
            "std        104.065294\n",
            "min          0.000000\n",
            "1%           0.000000\n",
            "5%           0.000000\n",
            "25%          0.000000\n",
            "50%          0.000000\n",
            "75%         83.000000\n",
            "95%        267.000000\n",
            "99%        444.900000\n",
            "max       1376.000000\n",
            "Name: hotel_price_per_room_night_usd, dtype: float64\n",
            "Anzahl negativer Werte: 0\n"
          ]
        },
        {
          "output_type": "display_data",
          "data": {
            "text/plain": [
              "<Figure size 800x400 with 1 Axes>"
            ],
            "image/png": "[encoded data removed]"
          },
          "metadata": {}
        },
        {
          "output_type": "display_data",
          "data": {
            "text/plain": [
              "<Figure size 800x200 with 1 Axes>"
            ],
            "image/png": "[encoded data removed]"
          },
          "metadata": {}
        }
      ]
    },
    {
      "cell_type": "markdown",
      "source": [
        "Ich habe die wichtigsten numerischen Spalten auf Ausreißer überprüft:\n",
        "\n",
        "* page_clicks\n",
        "\n",
        "  Die meisten Sessions haben nur wenige Klicks. Es gibt aber auch Sessions mit extrem hohen Klickzahlen, die wahrscheinlich Ausreißer darstellen.\n",
        "\n",
        "* nights\n",
        "\n",
        "  Hier treten teilweise negative Werte auf, die inhaltlich keinen Sinn ergeben. Diese Fälle deuten auf Datenfehler hin und sollten später entfernt oder korrigiert werden.\n",
        "\n",
        "* base_fare_usd\n",
        "\n",
        "  Die meisten Flugpreise bewegen sich in einem plausiblen Bereich. Es gibt jedoch einzelne extrem hohe Werte, die ich als potenzielle Fehler markieren werde.\n",
        "\n",
        "* hotel_price_per_room_night_usd\n",
        "\n",
        "  Auch hier zeigen sich einige sehr hohe Ausreißer, die wahrscheinlich nicht realistisch sind.\n",
        "\n",
        "Durch Histogramme und Boxplots konnte ich die Verteilungen visualisieren und typische Ausreißerbereiche identifizieren. Damit habe ich eine gute Grundlage, um im nächsten Schritt Regeln für das Bereinigen dieser Werte zu entwickeln."
      ],
      "metadata": {
        "id": "4rGdeF7tvAwG"
      }
    },
    {
      "cell_type": "markdown",
      "source": [
        "**Analyse der Spalte page_clicks**\n",
        "\n",
        "Die meisten Sessions liegen im Bereich zwischen 5 und 20 Klicks. Der Median liegt bei 13 Klicks, was bedeutet, dass die Hälfte der Sessions darunter bleibt. Nur wenige Sessions haben extrem hohe Werte (bis zu 566), was klare Ausreißer darstellt. Negative Werte gibt es hier keine.\n",
        "\n",
        "👉 Für die weitere Analyse werde ich entscheiden, ob wir die extrem hohen Klickzahlen beschränken (z. B. mit einem Cap auf dem 99%-Perzentil = 116), damit diese Werte die Segmentierung nicht verzerren."
      ],
      "metadata": {
        "id": "2dstYLEcwArS"
      }
    },
    {
      "cell_type": "markdown",
      "source": [
        "**Analyse der Spalte nights**\n",
        "\n",
        "Die meisten Hotelbuchungen enthalten nur eine Übernachtung (Median = 1). Auffällig ist, dass es 107 negative Werte gibt – Übernachtungen können natürlich nicht kleiner als null sein. Diese Zeilen sind fehlerhaft und müssen entfernt werden. Außerdem gibt es einige wenige Ausreißer mit sehr langen Aufenthalten (bis zu 43 Nächte), die jedoch plausibel sein könnten (z. B. Geschäftsreisen).\n",
        "\n",
        "👉 Ich werde die negativen Werte löschen und prüfen, ob sehr lange Aufenthalte (>30 Nächte) die Analyse verzerren."
      ],
      "metadata": {
        "id": "iR3yZqp_wC-Q"
      }
    },
    {
      "cell_type": "markdown",
      "source": [
        "**Analyse der Spalte base_fare_usd**\n",
        "\n",
        "Die meisten Flugbuchungen liegen bei unter 300 USD, aber es gibt sehr hohe Ausreißer bis zu 21.548 USD. Solche Werte sind extrem untypisch und vermutlich Datenfehler oder Sonderfälle (z. B. First-Class-Gruppenbuchungen).\n",
        "\n",
        "👉 Hier bietet es sich an, die Daten ab einem bestimmten Schwellenwert zu kappen (z. B. 99%-Perzentil = 1.688 USD), damit diese Sonderfälle nicht den Durchschnitt verfälschen.\n"
      ],
      "metadata": {
        "id": "HGO6cF3AwJnq"
      }
    },
    {
      "cell_type": "markdown",
      "source": [
        "**Analyse der Spalte hotel_price_per_room_night_usd**\n",
        "\n",
        "Die meisten Hotelzimmer kosten zwischen 0 und 100 USD pro Nacht (Median = 0, 75%-Perzentil = 83 USD). Auffällig sind einige sehr hohe Werte bis zu 1.376 USD, die wie bei den Flügen als Ausreißer gelten können. Zudem fällt auf, dass es viele Nullen gibt – vermutlich Fälle ohne Hotelbuchung.\n",
        "\n",
        "👉 Die Nullen sollten nicht gelöscht werden, da sie eine Information tragen („kein Hotel gebucht“). Extreme Werte über 500 USD sollten aber als Ausreißer behandelt und ggf. gecappt werden."
      ],
      "metadata": {
        "id": "rgiWQ_KjwSyH"
      }
    },
    {
      "cell_type": "markdown",
      "source": [
        "**📊 Zwischenfazit:**\n",
        "\n",
        "* Negative Werte → löschen (z. B. bei nights).\n",
        "\n",
        "* Extremwerte → prüfen und ggf. mit Capping (z. B. 99%-Perzentil) behandeln.\n",
        "\n",
        "* Nullwerte → unterscheiden: sind sie informativ (kein Hotel gebucht) oder echte Missing Values?"
      ],
      "metadata": {
        "id": "PnHZGgGlwYBw"
      }
    },
    {
      "cell_type": "code",
      "source": [
        "import matplotlib.pyplot as plt\n",
        "\n",
        "# Spalten, die wir analysieren wollen\n",
        "columns_to_check = [\n",
        "    \"session_minutes\",\n",
        "    \"flight_discount_amount\",\n",
        "    \"hotel_discount_amount\",\n",
        "    \"checked_bags\",\n",
        "    \"seats\"\n",
        "]\n",
        "\n",
        "for col in columns_to_check:\n",
        "    print(f\"\\n--- {col} ---\")\n",
        "    print(df[col].describe(percentiles=[0.01, 0.05, 0.25, 0.5, 0.75, 0.95, 0.99]))\n",
        "\n",
        "    # Negative Werte prüfen (falls numerisch)\n",
        "    if df[col].dtype in [\"float64\", \"int64\"]:\n",
        "        neg_vals = (df[col] < 0).sum()\n",
        "        print(f\"Anzahl negativer Werte: {neg_vals}\")\n",
        "\n",
        "    # Histogramm\n",
        "    plt.figure(figsize=(6,4))\n",
        "    df[col].dropna().hist(bins=30, color=\"#5DADE2\")\n",
        "    plt.title(f\"Histogramm: {col}\")\n",
        "    plt.xlabel(col)\n",
        "    plt.ylabel(\"Count\")\n",
        "    plt.show()\n",
        "\n",
        "    # Boxplot\n",
        "    plt.figure(figsize=(6,2))\n",
        "    plt.boxplot(df[col].dropna(), vert=False, patch_artist=True,\n",
        "                boxprops=dict(facecolor=\"#AED6F1\"))\n",
        "    plt.title(f\"Boxplot: {col}\")\n",
        "    plt.xlabel(col)\n",
        "    plt.show()"
      ],
      "metadata": {
        "colab": {
          "base_uri": "https://localhost:8080/",
          "height": 1000
        },
        "id": "W_AgZio2xVLd",
        "outputId": "48d59bd6-4be9-491a-9811-9011f6a6023d"
      },
      "execution_count": null,
      "outputs": [
        {
          "output_type": "stream",
          "name": "stdout",
          "text": [
            "\n",
            "--- session_minutes ---\n",
            "count    48968.000000\n",
            "mean         2.842386\n",
            "std         10.055178\n",
            "min          0.100000\n",
            "1%           0.233333\n",
            "5%           0.350000\n",
            "25%          0.750000\n",
            "50%          1.583333\n",
            "75%          2.683333\n",
            "95%          5.250000\n",
            "99%         14.216500\n",
            "max        120.000000\n",
            "Name: session_minutes, dtype: float64\n",
            "Anzahl negativer Werte: 0\n"
          ]
        },
        {
          "output_type": "display_data",
          "data": {
            "text/plain": [
              "<Figure size 600x400 with 1 Axes>"
            ],
            "image/png": "[encoded data removed]"
          },
          "metadata": {}
        },
        {
          "output_type": "display_data",
          "data": {
            "text/plain": [
              "<Figure size 600x200 with 1 Axes>"
            ],
            "image/png": "[encoded data removed]"
          },
          "metadata": {}
        },
        {
          "output_type": "stream",
          "name": "stdout",
          "text": [
            "\n",
            "--- flight_discount_amount ---\n",
            "count    49211.000000\n",
            "mean         0.023538\n",
            "std          0.062635\n",
            "min          0.000000\n",
            "1%           0.000000\n",
            "5%           0.000000\n",
            "25%          0.000000\n",
            "50%          0.000000\n",
            "75%          0.000000\n",
            "95%          0.150000\n",
            "99%          0.300000\n",
            "max          0.600000\n",
            "Name: flight_discount_amount, dtype: float64\n",
            "Anzahl negativer Werte: 0\n"
          ]
        },
        {
          "output_type": "display_data",
          "data": {
            "text/plain": [
              "<Figure size 600x400 with 1 Axes>"
            ],
            "image/png": "[encoded data removed]"
          },
          "metadata": {}
        },
        {
          "output_type": "display_data",
          "data": {
            "text/plain": [
              "<Figure size 600x200 with 1 Axes>"
            ],
            "image/png": "[encoded data removed]"
          },
          "metadata": {}
        },
        {
          "output_type": "stream",
          "name": "stdout",
          "text": [
            "\n",
            "--- hotel_discount_amount ---\n",
            "count    49211.000000\n",
            "mean         0.014146\n",
            "std          0.043284\n",
            "min          0.000000\n",
            "1%           0.000000\n",
            "5%           0.000000\n",
            "25%          0.000000\n",
            "50%          0.000000\n",
            "75%          0.000000\n",
            "95%          0.100000\n",
            "99%          0.200000\n",
            "max          0.450000\n",
            "Name: hotel_discount_amount, dtype: float64\n",
            "Anzahl negativer Werte: 0\n"
          ]
        },
        {
          "output_type": "display_data",
          "data": {
            "text/plain": [
              "<Figure size 600x400 with 1 Axes>"
            ],
            "image/png": "[encoded data removed]"
          },
          "metadata": {}
        },
        {
          "output_type": "display_data",
          "data": {
            "text/plain": [
              "<Figure size 600x200 with 1 Axes>"
            ],
            "image/png": "[encoded data removed]"
          },
          "metadata": {}
        },
        {
          "output_type": "stream",
          "name": "stdout",
          "text": [
            "\n",
            "--- checked_bags ---\n",
            "count    49211.000000\n",
            "mean         0.171933\n",
            "std          0.453357\n",
            "min          0.000000\n",
            "1%           0.000000\n",
            "5%           0.000000\n",
            "25%          0.000000\n",
            "50%          0.000000\n",
            "75%          0.000000\n",
            "95%          1.000000\n",
            "99%          2.000000\n",
            "max          8.000000\n",
            "Name: checked_bags, dtype: float64\n",
            "Anzahl negativer Werte: 0\n"
          ]
        },
        {
          "output_type": "display_data",
          "data": {
            "text/plain": [
              "<Figure size 600x400 with 1 Axes>"
            ],
            "image/png": "[encoded data removed]"
          },
          "metadata": {}
        },
        {
          "output_type": "display_data",
          "data": {
            "text/plain": [
              "<Figure size 600x200 with 1 Axes>"
            ],
            "image/png": "[encoded data removed]"
          },
          "metadata": {}
        },
        {
          "output_type": "stream",
          "name": "stdout",
          "text": [
            "\n",
            "--- seats ---\n",
            "count    14270.000000\n",
            "mean         1.215207\n",
            "std          0.585891\n",
            "min          1.000000\n",
            "1%           1.000000\n",
            "5%           1.000000\n",
            "25%          1.000000\n",
            "50%          1.000000\n",
            "75%          1.000000\n",
            "95%          2.000000\n",
            "99%          4.000000\n",
            "max          8.000000\n",
            "Name: seats, dtype: float64\n",
            "Anzahl negativer Werte: 0\n"
          ]
        },
        {
          "output_type": "display_data",
          "data": {
            "text/plain": [
              "<Figure size 600x400 with 1 Axes>"
            ],
            "image/png": "[encoded data removed]"
          },
          "metadata": {}
        },
        {
          "output_type": "display_data",
          "data": {
            "text/plain": [
              "<Figure size 600x200 with 1 Axes>"
            ],
            "image/png": "[encoded data removed]"
          },
          "metadata": {}
        }
      ]
    },
    {
      "cell_type": "markdown",
      "source": [
        "**🕒 Session Minutes**\n",
        "\n",
        "Die meisten Sessions dauern unter 5 Minuten. Der Median liegt bei ca. 1,6 Minuten, während das Maximum bei 120 Minuten liegt. Im Boxplot sind viele kleine Ausreißer sichtbar, aber auch ein paar extreme Sessions, die ungewöhnlich lange dauern. Das spricht dafür, dass es sich hier um spezielle oder fehlerhafte Fälle handeln könnte."
      ],
      "metadata": {
        "id": "h298SWTkZmQ7"
      }
    },
    {
      "cell_type": "markdown",
      "source": [
        "**✈️ Flight Discount Amount**\n",
        "\n",
        "Die Werte sind sehr stark rechtsschief verteilt. Fast alle Sessions haben keinen Rabatt (0), nur wenige Fälle haben höhere Discounts bis zu 0,6. Diese Ausreißer scheinen plausibel, könnten aber in der Segmentierung starkes Gewicht haben."
      ],
      "metadata": {
        "id": "4EciMXAwZoNQ"
      }
    },
    {
      "cell_type": "markdown",
      "source": [
        "**🏨 Hotel Discount Amount**\n",
        "\n",
        "Das Muster ähnelt dem der Flugrabatte. Auch hier sind die meisten Werte null, mit wenigen Ausreißern bis 0,45. Solche Ausreißer lassen sich erklären, da Discounts unterschiedlich stark ausfallen können."
      ],
      "metadata": {
        "id": "kL_jThyXZrN4"
      }
    },
    {
      "cell_type": "markdown",
      "source": [
        "**🧳 Checked Bags**\n",
        "\n",
        "Die meisten Nutzer:innen buchen 0 oder 1 Gepäckstück. Einzelne Ausreißer reichen bis zu 8 Gepäckstücken. Diese Werte sind zwar extrem, könnten aber realistisch sein (z. B. Gruppenreisen)."
      ],
      "metadata": {
        "id": "HATjRIZtZuAf"
      }
    },
    {
      "cell_type": "markdown",
      "source": [
        "**👥 Seats**\n",
        "\n",
        "Auch bei den Sitzplätzen ist 1 der dominierende Wert. Wenige Ausreißer gehen bis zu 8. Ähnlich wie bei den Bags könnten das Gruppenbuchungen sein. Daher sehe ich sie als plausibel an."
      ],
      "metadata": {
        "id": "xJWG8jkkZw81"
      }
    },
    {
      "cell_type": "markdown",
      "source": [
        "**👉 Meine Erkenntnis bisher:**\n",
        "\n",
        "Viele Variablen zeigen erwartungsgemäß eine starke Konzentration auf den „Standardfall“ (z. B. 0 Rabatt, 1 Sitz, 0–1 Gepäckstück). Die wenigen Ausreißer scheinen eher reale Sonderfälle zu sein als Fehler. Anders sieht es bei den Session-Minutes aus – hier sollten wir uns überlegen, ob wir extrem lange Sessions (z. B. >60 Minuten) als Ausreißer behandeln und eventuell droppen."
      ],
      "metadata": {
        "id": "yLjjLUwFZ2fe"
      }
    },
    {
      "cell_type": "markdown",
      "source": [
        "##🧹 10: Regeln für den Umgang mit Ausreißern"
      ],
      "metadata": {
        "id": "_ne18lFBaBTQ"
      }
    },
    {
      "cell_type": "markdown",
      "source": [
        "Nachdem ich die Verteilungen und Boxplots aller numerischen Variablen analysiert habe, musste ich entscheiden, wie ich mit Ausreißern umgehe. Dabei war es wichtig, zwischen plausiblen Extremwerten und wahrscheinlich fehlerhaften Datenpunkten zu unterscheiden.\n",
        "\n",
        "**✈️ Plausible Extremwerte**\n",
        "\n",
        "* Seats und Checked Bags: Werte bis 8 sind zwar selten, können aber realistisch sein (z. B. Gruppenreisen oder große Familien). Diese behalte ich im Datensatz.\n",
        "\n",
        "* Discounts (Flug & Hotel): Höhere Rabatte sind zwar selten, aber nachvollziehbar und daher ebenfalls im Datensatz belassen.\n",
        "\n",
        "**⚠️ Wahrscheinlich fehlerhafte Werte**\n",
        "\n",
        "* **Session Minutes**: Hier gibt es Sessions von über 60 Minuten, die sich stark vom Großteil der Daten unterscheiden. Es ist unwahrscheinlich, dass Nutzer:innen wirklich so lange aktiv sind, daher definiere ich diese als Ausreißer.\n",
        "\n",
        "* **Nights**: Hier gibt es negative Werte, die eindeutig fehlerhaft sind. Diese werde ich entfernen, da sie keine sinnvolle Information darstellen.\n",
        "\n",
        "* **Base Fare USD**: Extremwerte über 5.000 USD wirken sehr ungewöhnlich im Vergleich zum restlichen Datensatz. Diese könnten durch fehlerhafte Eingaben entstanden sein. Hier werde ich einen Cutoff bei 5.000 USD setzen.\n",
        "\n",
        "**👉 Mein Vorgehen:**\n",
        "\n",
        "Ich behalte alle plausiblen Extremwerte, weil sie echte Sonderfälle widerspiegeln könnten. Fehlerhafte Werte wie negative Nächte oder unrealistisch hohe Flugpreise filtere ich aus. Damit sorge ich dafür, dass die Segmente später nicht durch wenige unlogische Datenpunkte verzerrt werden."
      ],
      "metadata": {
        "id": "z3K1ITdQaIQt"
      }
    },
    {
      "cell_type": "markdown",
      "source": [
        "###🧹 10A: Cleaning nach definierten Ausreißer-Regeln"
      ],
      "metadata": {
        "id": "PW-EYCFEa4Gq"
      }
    },
    {
      "cell_type": "code",
      "source": [
        "# 10A — Cleaning nach definierten Regeln\n",
        "import numpy as np\n",
        "import pandas as pd\n",
        "\n",
        "df_clean = df.copy()\n",
        "\n",
        "# 1) Negative Nächte sind fehlerhaft → Zeilen entfernen\n",
        "neg_nights_mask = df_clean[\"nights\"] < 0\n",
        "removed_neg_nights = int(neg_nights_mask.sum())\n",
        "df_clean = df_clean.loc[~neg_nights_mask].reset_index(drop=True)\n",
        "\n",
        "# 2) Extrem lange Sessions begrenzen (Winsorizing bei 60 Minuten)\n",
        "#    Begründung: wir reduzieren Verzerrung, behalten aber die Session.\n",
        "capped_sessions_mask = df_clean[\"session_minutes\"] > 60\n",
        "capped_sessions = int(capped_sessions_mask.sum())\n",
        "df_clean.loc[capped_sessions_mask, \"session_minutes\"] = 60\n",
        "\n",
        "# 3) Unplausibel hohe Flugpreise deckeln (Cutoff 5.000 USD, Winsorizing)\n",
        "capped_fares_mask = df_clean[\"base_fare_usd\"] > 5000\n",
        "capped_fares = int(capped_fares_mask.sum())\n",
        "df_clean.loc[capped_fares_mask, \"base_fare_usd\"] = 5000\n",
        "\n",
        "print(\"Cleaning done.\")\n",
        "print({\n",
        "    \"removed_negative_nights_rows\": removed_neg_nights,\n",
        "    \"capped_session_minutes_over_60\": capped_sessions,\n",
        "    \"capped_base_fare_usd_over_5000\": capped_fares,\n",
        "    \"rows_after_cleaning\": len(df_clean)\n",
        "})"
      ],
      "metadata": {
        "colab": {
          "base_uri": "https://localhost:8080/"
        },
        "id": "bHa_Q8h6a6Py",
        "outputId": "a8b152ce-ae74-4b1c-a147-78851e87778b"
      },
      "execution_count": null,
      "outputs": [
        {
          "output_type": "stream",
          "name": "stdout",
          "text": [
            "Cleaning done.\n",
            "{'removed_negative_nights_rows': 107, 'capped_session_minutes_over_60': 345, 'capped_base_fare_usd_over_5000': 78, 'rows_after_cleaning': 49104}\n"
          ]
        }
      ]
    },
    {
      "cell_type": "markdown",
      "source": [
        "Ich habe die vorher festgelegten Regeln umgesetzt:\n",
        "* (1) negative Nächte entfernt, da sie klar fehlerhaft sind;\n",
        "* (2) extrem lange Sessions bei 60 Minuten gedeckelt, um Ausreißer-Einfluss zu begrenzen, ohne wertvolle Datenpunkte zu verlieren;\n",
        "* (3) sehr hohe Flugpreise bei 5.000 USD gedeckelt, um unrealistische Werte auszuschließen. Damit reduziere ich Verzerrungen in der späteren Segmentierung, ohne die Datenbasis unnötig zu verkleinern."
      ],
      "metadata": {
        "id": "ekt_oJZcbFhE"
      }
    },
    {
      "cell_type": "markdown",
      "source": [
        "###🔍 10B: Cleaning-Impact prüfen (Vorher/Nachher-Vergleich)"
      ],
      "metadata": {
        "id": "HdDsdgCbbOB9"
      }
    },
    {
      "cell_type": "code",
      "source": [
        "# 10B — Impact-Check (Vorher/Nachher)\n",
        "def quick_stats(s, name):\n",
        "    return pd.Series({\n",
        "        \"count\": s.notna().sum(),\n",
        "        \"mean\": s.mean(),\n",
        "        \"std\": s.std(),\n",
        "        \"min\": s.min(),\n",
        "        \"p50\": s.quantile(0.50),\n",
        "        \"p95\": s.quantile(0.95),\n",
        "        \"p99\": s.quantile(0.99),\n",
        "        \"max\": s.max()\n",
        "    }, name=name)\n",
        "\n",
        "cols_check = [\"session_minutes\", \"nights\", \"base_fare_usd\"]\n",
        "\n",
        "before = pd.concat([quick_stats(df[c], f\"{c}_before\") for c in cols_check], axis=1)\n",
        "after  = pd.concat([quick_stats(df_clean[c], f\"{c}_after\")  for c in cols_check], axis=1)\n",
        "\n",
        "impact = before.join(after)\n",
        "impact"
      ],
      "metadata": {
        "colab": {
          "base_uri": "https://localhost:8080/",
          "height": 300
        },
        "id": "LILEf-CobPPb",
        "outputId": "755cc8d1-b55b-46ca-ba5c-be4d4f9d294b"
      },
      "execution_count": null,
      "outputs": [
        {
          "output_type": "execute_result",
          "data": {
            "text/plain": [
              "       session_minutes_before  nights_before  base_fare_usd_before  \\\n",
              "count            48968.000000   49211.000000          49211.000000   \n",
              "mean                 2.842386       1.098962            152.498686   \n",
              "std                 10.055178       2.676639            501.104148   \n",
              "min                  0.100000      -2.000000              0.000000   \n",
              "p50                  1.583333       0.000000              0.000000   \n",
              "p95                  5.250000       6.000000            685.870000   \n",
              "p99                 14.216500      13.000000           1688.060000   \n",
              "max                120.000000      43.000000          21548.040000   \n",
              "\n",
              "       session_minutes_after  nights_after  base_fare_usd_after  \n",
              "count           48862.000000  49104.000000         49104.000000  \n",
              "mean                2.415998      1.103556           146.608366  \n",
              "std                 5.214889      2.677738           406.145280  \n",
              "min                 0.100000      0.000000             0.000000  \n",
              "p50                 1.583333      0.000000             0.000000  \n",
              "p95                 5.250000      6.000000           684.887000  \n",
              "p99                14.169500     13.000000          1696.566900  \n",
              "max                60.000000     43.000000          5000.000000  "
            ],
            "text/html": [
              "\n",
              "  <div id=\"df-aa3a3d63-eaa0-41ba-b9d8-48521a10652d\" class=\"colab-df-container\">\n",
              "    <div>\n",
              "<style scoped>\n",
              "    .dataframe tbody tr th:only-of-type {\n",
              "        vertical-align: middle;\n",
              "    }\n",
              "\n",
              "    .dataframe tbody tr th {\n",
              "        vertical-align: top;\n",
              "    }\n",
              "\n",
              "    .dataframe thead th {\n",
              "        text-align: right;\n",
              "    }\n",
              "</style>\n",
              "<table border=\"1\" class=\"dataframe\">\n",
              "  <thead>\n",
              "    <tr style=\"text-align: right;\">\n",
              "      <th></th>\n",
              "      <th>session_minutes_before</th>\n",
              "      <th>nights_before</th>\n",
              "      <th>base_fare_usd_before</th>\n",
              "      <th>session_minutes_after</th>\n",
              "      <th>nights_after</th>\n",
              "      <th>base_fare_usd_after</th>\n",
              "    </tr>\n",
              "  </thead>\n",
              "  <tbody>\n",
              "    <tr>\n",
              "      <th>count</th>\n",
              "      <td>48968.000000</td>\n",
              "      <td>49211.000000</td>\n",
              "      <td>49211.000000</td>\n",
              "      <td>48862.000000</td>\n",
              "      <td>49104.000000</td>\n",
              "      <td>49104.000000</td>\n",
              "    </tr>\n",
              "    <tr>\n",
              "      <th>mean</th>\n",
              "      <td>2.842386</td>\n",
              "      <td>1.098962</td>\n",
              "      <td>152.498686</td>\n",
              "      <td>2.415998</td>\n",
              "      <td>1.103556</td>\n",
              "      <td>146.608366</td>\n",
              "    </tr>\n",
              "    <tr>\n",
              "      <th>std</th>\n",
              "      <td>10.055178</td>\n",
              "      <td>2.676639</td>\n",
              "      <td>501.104148</td>\n",
              "      <td>5.214889</td>\n",
              "      <td>2.677738</td>\n",
              "      <td>406.145280</td>\n",
              "    </tr>\n",
              "    <tr>\n",
              "      <th>min</th>\n",
              "      <td>0.100000</td>\n",
              "      <td>-2.000000</td>\n",
              "      <td>0.000000</td>\n",
              "      <td>0.100000</td>\n",
              "      <td>0.000000</td>\n",
              "      <td>0.000000</td>\n",
              "    </tr>\n",
              "    <tr>\n",
              "      <th>p50</th>\n",
              "      <td>1.583333</td>\n",
              "      <td>0.000000</td>\n",
              "      <td>0.000000</td>\n",
              "      <td>1.583333</td>\n",
              "      <td>0.000000</td>\n",
              "      <td>0.000000</td>\n",
              "    </tr>\n",
              "    <tr>\n",
              "      <th>p95</th>\n",
              "      <td>5.250000</td>\n",
              "      <td>6.000000</td>\n",
              "      <td>685.870000</td>\n",
              "      <td>5.250000</td>\n",
              "      <td>6.000000</td>\n",
              "      <td>684.887000</td>\n",
              "    </tr>\n",
              "    <tr>\n",
              "      <th>p99</th>\n",
              "      <td>14.216500</td>\n",
              "      <td>13.000000</td>\n",
              "      <td>1688.060000</td>\n",
              "      <td>14.169500</td>\n",
              "      <td>13.000000</td>\n",
              "      <td>1696.566900</td>\n",
              "    </tr>\n",
              "    <tr>\n",
              "      <th>max</th>\n",
              "      <td>120.000000</td>\n",
              "      <td>43.000000</td>\n",
              "      <td>21548.040000</td>\n",
              "      <td>60.000000</td>\n",
              "      <td>43.000000</td>\n",
              "      <td>5000.000000</td>\n",
              "    </tr>\n",
              "  </tbody>\n",
              "</table>\n",
              "</div>\n",
              "    <div class=\"colab-df-buttons\">\n",
              "\n",
              "  <div class=\"colab-df-container\">\n",
              "    <button class=\"colab-df-convert\" onclick=\"convertToInteractive('df-aa3a3d63-eaa0-41ba-b9d8-48521a10652d')\"\n",
              "            title=\"Convert this dataframe to an interactive table.\"\n",
              "            style=\"display:none;\">\n",
              "\n",
              "  <svg xmlns=\"http://www.w3.org/2000/svg\" height=\"24px\" viewBox=\"0 -960 960 960\">\n",
              "    <path d=\"M120-120v-720h720v720H120Zm60-500h600v-160H180v160Zm220 220h160v-160H400v160Zm0 220h160v-160H400v160ZM180-400h160v-160H180v160Zm440 0h160v-160H620v160ZM180-180h160v-160H180v160Zm440 0h160v-160H620v160Z\"/>\n",
              "  </svg>\n",
              "    </button>\n",
              "\n",
              "  <style>\n",
              "    .colab-df-container {\n",
              "      display:flex;\n",
              "      gap: 12px;\n",
              "    }\n",
              "\n",
              "    .colab-df-convert {\n",
              "      background-color: #E8F0FE;\n",
              "      border: none;\n",
              "      border-radius: 50%;\n",
              "      cursor: pointer;\n",
              "      display: none;\n",
              "      fill: #1967D2;\n",
              "      height: 32px;\n",
              "      padding: 0 0 0 0;\n",
              "      width: 32px;\n",
              "    }\n",
              "\n",
              "    .colab-df-convert:hover {\n",
              "      background-color: #E2EBFA;\n",
              "      box-shadow: 0px 1px 2px rgba(60, 64, 67, 0.3), 0px 1px 3px 1px rgba(60, 64, 67, 0.15);\n",
              "      fill: #174EA6;\n",
              "    }\n",
              "\n",
              "    .colab-df-buttons div {\n",
              "      margin-bottom: 4px;\n",
              "    }\n",
              "\n",
              "    [theme=dark] .colab-df-convert {\n",
              "      background-color: #3B4455;\n",
              "      fill: #D2E3FC;\n",
              "    }\n",
              "\n",
              "    [theme=dark] .colab-df-convert:hover {\n",
              "      background-color: #434B5C;\n",
              "      box-shadow: 0px 1px 3px 1px rgba(0, 0, 0, 0.15);\n",
              "      filter: drop-shadow(0px 1px 2px rgba(0, 0, 0, 0.3));\n",
              "      fill: #FFFFFF;\n",
              "    }\n",
              "  </style>\n",
              "\n",
              "    <script>\n",
              "      const buttonEl =\n",
              "        document.querySelector('#df-aa3a3d63-eaa0-41ba-b9d8-48521a10652d button.colab-df-convert');\n",
              "      buttonEl.style.display =\n",
              "        google.colab.kernel.accessAllowed ? 'block' : 'none';\n",
              "\n",
              "      async function convertToInteractive(key) {\n",
              "        const element = document.querySelector('#df-aa3a3d63-eaa0-41ba-b9d8-48521a10652d');\n",
              "        const dataTable =\n",
              "          await google.colab.kernel.invokeFunction('convertToInteractive',\n",
              "                                                    [key], {});\n",
              "        if (!dataTable) return;\n",
              "\n",
              "        const docLinkHtml = 'Like what you see? Visit the ' +\n",
              "          '<a target=\"_blank\" href=https://colab.research.google.com/notebooks/data_table.ipynb>data table notebook</a>'\n",
              "          + ' to learn more about interactive tables.';\n",
              "        element.innerHTML = '';\n",
              "        dataTable['output_type'] = 'display_data';\n",
              "        await google.colab.output.renderOutput(dataTable, element);\n",
              "        const docLink = document.createElement('div');\n",
              "        docLink.innerHTML = docLinkHtml;\n",
              "        element.appendChild(docLink);\n",
              "      }\n",
              "    </script>\n",
              "  </div>\n",
              "\n",
              "\n",
              "    <div id=\"df-b517805e-ba7b-4f4f-ad2c-279a71006421\">\n",
              "      <button class=\"colab-df-quickchart\" onclick=\"quickchart('df-b517805e-ba7b-4f4f-ad2c-279a71006421')\"\n",
              "                title=\"Suggest charts\"\n",
              "                style=\"display:none;\">\n",
              "\n",
              "<svg xmlns=\"http://www.w3.org/2000/svg\" height=\"24px\"viewBox=\"0 0 24 24\"\n",
              "     width=\"24px\">\n",
              "    <g>\n",
              "        <path d=\"M19 3H5c-1.1 0-2 .9-2 2v14c0 1.1.9 2 2 2h14c1.1 0 2-.9 2-2V5c0-1.1-.9-2-2-2zM9 17H7v-7h2v7zm4 0h-2V7h2v10zm4 0h-2v-4h2v4z\"/>\n",
              "    </g>\n",
              "</svg>\n",
              "      </button>\n",
              "\n",
              "<style>\n",
              "  .colab-df-quickchart {\n",
              "      --bg-color: #E8F0FE;\n",
              "      --fill-color: #1967D2;\n",
              "      --hover-bg-color: #E2EBFA;\n",
              "      --hover-fill-color: #174EA6;\n",
              "      --disabled-fill-color: #AAA;\n",
              "      --disabled-bg-color: #DDD;\n",
              "  }\n",
              "\n",
              "  [theme=dark] .colab-df-quickchart {\n",
              "      --bg-color: #3B4455;\n",
              "      --fill-color: #D2E3FC;\n",
              "      --hover-bg-color: #434B5C;\n",
              "      --hover-fill-color: #FFFFFF;\n",
              "      --disabled-bg-color: #3B4455;\n",
              "      --disabled-fill-color: #666;\n",
              "  }\n",
              "\n",
              "  .colab-df-quickchart {\n",
              "    background-color: var(--bg-color);\n",
              "    border: none;\n",
              "    border-radius: 50%;\n",
              "    cursor: pointer;\n",
              "    display: none;\n",
              "    fill: var(--fill-color);\n",
              "    height: 32px;\n",
              "    padding: 0;\n",
              "    width: 32px;\n",
              "  }\n",
              "\n",
              "  .colab-df-quickchart:hover {\n",
              "    background-color: var(--hover-bg-color);\n",
              "    box-shadow: 0 1px 2px rgba(60, 64, 67, 0.3), 0 1px 3px 1px rgba(60, 64, 67, 0.15);\n",
              "    fill: var(--button-hover-fill-color);\n",
              "  }\n",
              "\n",
              "  .colab-df-quickchart-complete:disabled,\n",
              "  .colab-df-quickchart-complete:disabled:hover {\n",
              "    background-color: var(--disabled-bg-color);\n",
              "    fill: var(--disabled-fill-color);\n",
              "    box-shadow: none;\n",
              "  }\n",
              "\n",
              "  .colab-df-spinner {\n",
              "    border: 2px solid var(--fill-color);\n",
              "    border-color: transparent;\n",
              "    border-bottom-color: var(--fill-color);\n",
              "    animation:\n",
              "      spin 1s steps(1) infinite;\n",
              "  }\n",
              "\n",
              "  @keyframes spin {\n",
              "    0% {\n",
              "      border-color: transparent;\n",
              "      border-bottom-color: var(--fill-color);\n",
              "      border-left-color: var(--fill-color);\n",
              "    }\n",
              "    20% {\n",
              "      border-color: transparent;\n",
              "      border-left-color: var(--fill-color);\n",
              "      border-top-color: var(--fill-color);\n",
              "    }\n",
              "    30% {\n",
              "      border-color: transparent;\n",
              "      border-left-color: var(--fill-color);\n",
              "      border-top-color: var(--fill-color);\n",
              "      border-right-color: var(--fill-color);\n",
              "    }\n",
              "    40% {\n",
              "      border-color: transparent;\n",
              "      border-right-color: var(--fill-color);\n",
              "      border-top-color: var(--fill-color);\n",
              "    }\n",
              "    60% {\n",
              "      border-color: transparent;\n",
              "      border-right-color: var(--fill-color);\n",
              "    }\n",
              "    80% {\n",
              "      border-color: transparent;\n",
              "      border-right-color: var(--fill-color);\n",
              "      border-bottom-color: var(--fill-color);\n",
              "    }\n",
              "    90% {\n",
              "      border-color: transparent;\n",
              "      border-bottom-color: var(--fill-color);\n",
              "    }\n",
              "  }\n",
              "</style>\n",
              "\n",
              "      <script>\n",
              "        async function quickchart(key) {\n",
              "          const quickchartButtonEl =\n",
              "            document.querySelector('#' + key + ' button');\n",
              "          quickchartButtonEl.disabled = true;  // To prevent multiple clicks.\n",
              "          quickchartButtonEl.classList.add('colab-df-spinner');\n",
              "          try {\n",
              "            const charts = await google.colab.kernel.invokeFunction(\n",
              "                'suggestCharts', [key], {});\n",
              "          } catch (error) {\n",
              "            console.error('Error during call to suggestCharts:', error);\n",
              "          }\n",
              "          quickchartButtonEl.classList.remove('colab-df-spinner');\n",
              "          quickchartButtonEl.classList.add('colab-df-quickchart-complete');\n",
              "        }\n",
              "        (() => {\n",
              "          let quickchartButtonEl =\n",
              "            document.querySelector('#df-b517805e-ba7b-4f4f-ad2c-279a71006421 button');\n",
              "          quickchartButtonEl.style.display =\n",
              "            google.colab.kernel.accessAllowed ? 'block' : 'none';\n",
              "        })();\n",
              "      </script>\n",
              "    </div>\n",
              "\n",
              "  <div id=\"id_68bee760-c0c3-4d25-9509-4fa5d9278be9\">\n",
              "    <style>\n",
              "      .colab-df-generate {\n",
              "        background-color: #E8F0FE;\n",
              "        border: none;\n",
              "        border-radius: 50%;\n",
              "        cursor: pointer;\n",
              "        display: none;\n",
              "        fill: #1967D2;\n",
              "        height: 32px;\n",
              "        padding: 0 0 0 0;\n",
              "        width: 32px;\n",
              "      }\n",
              "\n",
              "      .colab-df-generate:hover {\n",
              "        background-color: #E2EBFA;\n",
              "        box-shadow: 0px 1px 2px rgba(60, 64, 67, 0.3), 0px 1px 3px 1px rgba(60, 64, 67, 0.15);\n",
              "        fill: #174EA6;\n",
              "      }\n",
              "\n",
              "      [theme=dark] .colab-df-generate {\n",
              "        background-color: #3B4455;\n",
              "        fill: #D2E3FC;\n",
              "      }\n",
              "\n",
              "      [theme=dark] .colab-df-generate:hover {\n",
              "        background-color: #434B5C;\n",
              "        box-shadow: 0px 1px 3px 1px rgba(0, 0, 0, 0.15);\n",
              "        filter: drop-shadow(0px 1px 2px rgba(0, 0, 0, 0.3));\n",
              "        fill: #FFFFFF;\n",
              "      }\n",
              "    </style>\n",
              "    <button class=\"colab-df-generate\" onclick=\"generateWithVariable('impact')\"\n",
              "            title=\"Generate code using this dataframe.\"\n",
              "            style=\"display:none;\">\n",
              "\n",
              "  <svg xmlns=\"http://www.w3.org/2000/svg\" height=\"24px\"viewBox=\"0 0 24 24\"\n",
              "       width=\"24px\">\n",
              "    <path d=\"M7,19H8.4L18.45,9,17,7.55,7,17.6ZM5,21V16.75L18.45,3.32a2,2,0,0,1,2.83,0l1.4,1.43a1.91,1.91,0,0,1,.58,1.4,1.91,1.91,0,0,1-.58,1.4L9.25,21ZM18.45,9,17,7.55Zm-12,3A5.31,5.31,0,0,0,4.9,8.1,5.31,5.31,0,0,0,1,6.5,5.31,5.31,0,0,0,4.9,4.9,5.31,5.31,0,0,0,6.5,1,5.31,5.31,0,0,0,8.1,4.9,5.31,5.31,0,0,0,12,6.5,5.46,5.46,0,0,0,6.5,12Z\"/>\n",
              "  </svg>\n",
              "    </button>\n",
              "    <script>\n",
              "      (() => {\n",
              "      const buttonEl =\n",
              "        document.querySelector('#id_68bee760-c0c3-4d25-9509-4fa5d9278be9 button.colab-df-generate');\n",
              "      buttonEl.style.display =\n",
              "        google.colab.kernel.accessAllowed ? 'block' : 'none';\n",
              "\n",
              "      buttonEl.onclick = () => {\n",
              "        google.colab.notebook.generateWithVariable('impact');\n",
              "      }\n",
              "      })();\n",
              "    </script>\n",
              "  </div>\n",
              "\n",
              "    </div>\n",
              "  </div>\n"
            ],
            "application/vnd.google.colaboratory.intrinsic+json": {
              "type": "dataframe",
              "variable_name": "impact",
              "summary": "{\n  \"name\": \"impact\",\n  \"rows\": 8,\n  \"fields\": [\n    {\n      \"column\": \"session_minutes_before\",\n      \"properties\": {\n        \"dtype\": \"number\",\n        \"std\": 17305.068715845544,\n        \"min\": 0.1,\n        \"max\": 48968.0,\n        \"num_unique_values\": 8,\n        \"samples\": [\n          2.8423855034580403,\n          5.25,\n          48968.0\n        ],\n        \"semantic_type\": \"\",\n        \"description\": \"\"\n      }\n    },\n    {\n      \"column\": \"nights_before\",\n      \"properties\": {\n        \"dtype\": \"number\",\n        \"std\": 17395.50084917468,\n        \"min\": -2.0,\n        \"max\": 49211.0,\n        \"num_unique_values\": 8,\n        \"samples\": [\n          1.0989616142732317,\n          6.0,\n          49211.0\n        ],\n        \"semantic_type\": \"\",\n        \"description\": \"\"\n      }\n    },\n    {\n      \"column\": \"base_fare_usd_before\",\n      \"properties\": {\n        \"dtype\": \"number\",\n        \"std\": 17764.642181929237,\n        \"min\": 0.0,\n        \"max\": 49211.0,\n        \"num_unique_values\": 7,\n        \"samples\": [\n          49211.0,\n          152.49868586291683,\n          1688.06\n        ],\n        \"semantic_type\": \"\",\n        \"description\": \"\"\n      }\n    },\n    {\n      \"column\": \"session_minutes_after\",\n      \"properties\": {\n        \"dtype\": \"number\",\n        \"std\": 17270.85536972655,\n        \"min\": 0.1,\n        \"max\": 48862.0,\n        \"num_unique_values\": 8,\n        \"samples\": [\n          2.415998117146249,\n          5.25,\n          48862.0\n        ],\n        \"semantic_type\": \"\",\n        \"description\": \"\"\n      }\n    },\n    {\n      \"column\": \"nights_after\",\n      \"properties\": {\n        \"dtype\": \"number\",\n        \"std\": 17357.569177753296,\n        \"min\": 0.0,\n        \"max\": 49104.0,\n        \"num_unique_values\": 7,\n        \"samples\": [\n          49104.0,\n          1.1035557184750733,\n          13.0\n        ],\n        \"semantic_type\": \"\",\n        \"description\": \"\"\n      }\n    },\n    {\n      \"column\": \"base_fare_usd_after\",\n      \"properties\": {\n        \"dtype\": \"number\",\n        \"std\": 17042.245968039642,\n        \"min\": 0.0,\n        \"max\": 49104.0,\n        \"num_unique_values\": 7,\n        \"samples\": [\n          49104.0,\n          146.6083657135875,\n          1696.56690000001\n        ],\n        \"semantic_type\": \"\",\n        \"description\": \"\"\n      }\n    }\n  ]\n}"
            }
          },
          "metadata": {},
          "execution_count": 12
        }
      ]
    },
    {
      "cell_type": "markdown",
      "source": [
        "Im Vorher/Nachher-Vergleich sieht man, dass die Maximalwerte von session_minutes und base_fare_usd nach dem Deckeln deutlich sinken, während Median und 95. Perzentil stabil bleiben. Das bestätigt, dass die Bereinigung gezielt auf Ausreißer wirkt und nicht die zentrale Verteilung verzerrt. Bei nights sind nur wenige Zeilen entfallen (negative Werte), was die Datenmenge kaum beeinflusst."
      ],
      "metadata": {
        "id": "2cfQ3P8dbVT3"
      }
    },
    {
      "cell_type": "markdown",
      "source": [
        "###💾 10C: Bereinigten Datensatz speichern"
      ],
      "metadata": {
        "id": "F7xzVek5bXT8"
      }
    },
    {
      "cell_type": "code",
      "source": [
        "# 10C — Save cleaned dataset\n",
        "CLEAN_PATH = \"session_base_clean.csv\"\n",
        "df_clean.to_csv(CLEAN_PATH, index=False)\n",
        "print(f\"Saved: {CLEAN_PATH}  | rows: {len(df_clean)}  | cols: {df_clean.shape[1]}\")"
      ],
      "metadata": {
        "colab": {
          "base_uri": "https://localhost:8080/"
        },
        "id": "YZB8TQ-0bZk2",
        "outputId": "dfa7e181-3f1d-416b-abb2-8eb01a0638c0"
      },
      "execution_count": null,
      "outputs": [
        {
          "output_type": "stream",
          "name": "stdout",
          "text": [
            "Saved: session_base_clean.csv  | rows: 49104  | cols: 43\n"
          ]
        }
      ]
    },
    {
      "cell_type": "markdown",
      "source": [
        "Den bereinigten Datensatz habe ich als session_base_clean.csv gespeichert. Dieser Stand dient mir als verlässliche Grundlage für Feature Engineering und die spätere Kundensegmentierung."
      ],
      "metadata": {
        "id": "2eTQ5Sn9benU"
      }
    },
    {
      "cell_type": "markdown",
      "source": [
        "##🧹 11: Null-Werte"
      ],
      "metadata": {
        "id": "Yaaa0BX9bx3r"
      }
    },
    {
      "cell_type": "markdown",
      "source": [
        "###🧹 11A: Überblick Null-Werte"
      ],
      "metadata": {
        "id": "SWjN42nVb1kx"
      }
    },
    {
      "cell_type": "code",
      "source": [
        "# 11A — Überblick Null-Werte\n",
        "nulls = df_clean.isnull().sum().sort_values(ascending=False)\n",
        "nulls_percent = (nulls / len(df_clean) * 100).round(1)\n",
        "pd.DataFrame({\"missing_count\": nulls, \"missing_percent\": nulls_percent}).head(15)"
      ],
      "metadata": {
        "colab": {
          "base_uri": "https://localhost:8080/",
          "height": 520
        },
        "id": "GrfTU9x2b4Dc",
        "outputId": "beb7598b-5731-42e1-ec36-37e3258abe62"
      },
      "execution_count": null,
      "outputs": [
        {
          "output_type": "execute_result",
          "data": {
            "text/plain": [
              "                         missing_count  missing_percent\n",
              "check_in_time                    36970             75.3\n",
              "return_time                      35554             72.4\n",
              "destination_airport_lon          34941             71.2\n",
              "seats                            34941             71.2\n",
              "destination_airport              34941             71.2\n",
              "departure_time                   34941             71.2\n",
              "return_flight_booked             34941             71.2\n",
              "destination                      34941             71.2\n",
              "origin_airport                   34941             71.2\n",
              "trip_airline                     34941             71.2\n",
              "destination_airport_lat          34941             71.2\n",
              "check_out_time                   34485             70.2\n",
              "hotel_name                       34485             70.2\n",
              "trip_id                          32509             66.2\n",
              "session_end                        242              0.5"
            ],
            "text/html": [
              "\n",
              "  <div id=\"df-7b5afb0f-0cb8-4017-89fc-4445274524f7\" class=\"colab-df-container\">\n",
              "    <div>\n",
              "<style scoped>\n",
              "    .dataframe tbody tr th:only-of-type {\n",
              "        vertical-align: middle;\n",
              "    }\n",
              "\n",
              "    .dataframe tbody tr th {\n",
              "        vertical-align: top;\n",
              "    }\n",
              "\n",
              "    .dataframe thead th {\n",
              "        text-align: right;\n",
              "    }\n",
              "</style>\n",
              "<table border=\"1\" class=\"dataframe\">\n",
              "  <thead>\n",
              "    <tr style=\"text-align: right;\">\n",
              "      <th></th>\n",
              "      <th>missing_count</th>\n",
              "      <th>missing_percent</th>\n",
              "    </tr>\n",
              "  </thead>\n",
              "  <tbody>\n",
              "    <tr>\n",
              "      <th>check_in_time</th>\n",
              "      <td>36970</td>\n",
              "      <td>75.3</td>\n",
              "    </tr>\n",
              "    <tr>\n",
              "      <th>return_time</th>\n",
              "      <td>35554</td>\n",
              "      <td>72.4</td>\n",
              "    </tr>\n",
              "    <tr>\n",
              "      <th>destination_airport_lon</th>\n",
              "      <td>34941</td>\n",
              "      <td>71.2</td>\n",
              "    </tr>\n",
              "    <tr>\n",
              "      <th>seats</th>\n",
              "      <td>34941</td>\n",
              "      <td>71.2</td>\n",
              "    </tr>\n",
              "    <tr>\n",
              "      <th>destination_airport</th>\n",
              "      <td>34941</td>\n",
              "      <td>71.2</td>\n",
              "    </tr>\n",
              "    <tr>\n",
              "      <th>departure_time</th>\n",
              "      <td>34941</td>\n",
              "      <td>71.2</td>\n",
              "    </tr>\n",
              "    <tr>\n",
              "      <th>return_flight_booked</th>\n",
              "      <td>34941</td>\n",
              "      <td>71.2</td>\n",
              "    </tr>\n",
              "    <tr>\n",
              "      <th>destination</th>\n",
              "      <td>34941</td>\n",
              "      <td>71.2</td>\n",
              "    </tr>\n",
              "    <tr>\n",
              "      <th>origin_airport</th>\n",
              "      <td>34941</td>\n",
              "      <td>71.2</td>\n",
              "    </tr>\n",
              "    <tr>\n",
              "      <th>trip_airline</th>\n",
              "      <td>34941</td>\n",
              "      <td>71.2</td>\n",
              "    </tr>\n",
              "    <tr>\n",
              "      <th>destination_airport_lat</th>\n",
              "      <td>34941</td>\n",
              "      <td>71.2</td>\n",
              "    </tr>\n",
              "    <tr>\n",
              "      <th>check_out_time</th>\n",
              "      <td>34485</td>\n",
              "      <td>70.2</td>\n",
              "    </tr>\n",
              "    <tr>\n",
              "      <th>hotel_name</th>\n",
              "      <td>34485</td>\n",
              "      <td>70.2</td>\n",
              "    </tr>\n",
              "    <tr>\n",
              "      <th>trip_id</th>\n",
              "      <td>32509</td>\n",
              "      <td>66.2</td>\n",
              "    </tr>\n",
              "    <tr>\n",
              "      <th>session_end</th>\n",
              "      <td>242</td>\n",
              "      <td>0.5</td>\n",
              "    </tr>\n",
              "  </tbody>\n",
              "</table>\n",
              "</div>\n",
              "    <div class=\"colab-df-buttons\">\n",
              "\n",
              "  <div class=\"colab-df-container\">\n",
              "    <button class=\"colab-df-convert\" onclick=\"convertToInteractive('df-7b5afb0f-0cb8-4017-89fc-4445274524f7')\"\n",
              "            title=\"Convert this dataframe to an interactive table.\"\n",
              "            style=\"display:none;\">\n",
              "\n",
              "  <svg xmlns=\"http://www.w3.org/2000/svg\" height=\"24px\" viewBox=\"0 -960 960 960\">\n",
              "    <path d=\"M120-120v-720h720v720H120Zm60-500h600v-160H180v160Zm220 220h160v-160H400v160Zm0 220h160v-160H400v160ZM180-400h160v-160H180v160Zm440 0h160v-160H620v160ZM180-180h160v-160H180v160Zm440 0h160v-160H620v160Z\"/>\n",
              "  </svg>\n",
              "    </button>\n",
              "\n",
              "  <style>\n",
              "    .colab-df-container {\n",
              "      display:flex;\n",
              "      gap: 12px;\n",
              "    }\n",
              "\n",
              "    .colab-df-convert {\n",
              "      background-color: #E8F0FE;\n",
              "      border: none;\n",
              "      border-radius: 50%;\n",
              "      cursor: pointer;\n",
              "      display: none;\n",
              "      fill: #1967D2;\n",
              "      height: 32px;\n",
              "      padding: 0 0 0 0;\n",
              "      width: 32px;\n",
              "    }\n",
              "\n",
              "    .colab-df-convert:hover {\n",
              "      background-color: #E2EBFA;\n",
              "      box-shadow: 0px 1px 2px rgba(60, 64, 67, 0.3), 0px 1px 3px 1px rgba(60, 64, 67, 0.15);\n",
              "      fill: #174EA6;\n",
              "    }\n",
              "\n",
              "    .colab-df-buttons div {\n",
              "      margin-bottom: 4px;\n",
              "    }\n",
              "\n",
              "    [theme=dark] .colab-df-convert {\n",
              "      background-color: #3B4455;\n",
              "      fill: #D2E3FC;\n",
              "    }\n",
              "\n",
              "    [theme=dark] .colab-df-convert:hover {\n",
              "      background-color: #434B5C;\n",
              "      box-shadow: 0px 1px 3px 1px rgba(0, 0, 0, 0.15);\n",
              "      filter: drop-shadow(0px 1px 2px rgba(0, 0, 0, 0.3));\n",
              "      fill: #FFFFFF;\n",
              "    }\n",
              "  </style>\n",
              "\n",
              "    <script>\n",
              "      const buttonEl =\n",
              "        document.querySelector('#df-7b5afb0f-0cb8-4017-89fc-4445274524f7 button.colab-df-convert');\n",
              "      buttonEl.style.display =\n",
              "        google.colab.kernel.accessAllowed ? 'block' : 'none';\n",
              "\n",
              "      async function convertToInteractive(key) {\n",
              "        const element = document.querySelector('#df-7b5afb0f-0cb8-4017-89fc-4445274524f7');\n",
              "        const dataTable =\n",
              "          await google.colab.kernel.invokeFunction('convertToInteractive',\n",
              "                                                    [key], {});\n",
              "        if (!dataTable) return;\n",
              "\n",
              "        const docLinkHtml = 'Like what you see? Visit the ' +\n",
              "          '<a target=\"_blank\" href=https://colab.research.google.com/notebooks/data_table.ipynb>data table notebook</a>'\n",
              "          + ' to learn more about interactive tables.';\n",
              "        element.innerHTML = '';\n",
              "        dataTable['output_type'] = 'display_data';\n",
              "        await google.colab.output.renderOutput(dataTable, element);\n",
              "        const docLink = document.createElement('div');\n",
              "        docLink.innerHTML = docLinkHtml;\n",
              "        element.appendChild(docLink);\n",
              "      }\n",
              "    </script>\n",
              "  </div>\n",
              "\n",
              "\n",
              "    <div id=\"df-3dd7d348-a800-4bf2-81df-49d128750a08\">\n",
              "      <button class=\"colab-df-quickchart\" onclick=\"quickchart('df-3dd7d348-a800-4bf2-81df-49d128750a08')\"\n",
              "                title=\"Suggest charts\"\n",
              "                style=\"display:none;\">\n",
              "\n",
              "<svg xmlns=\"http://www.w3.org/2000/svg\" height=\"24px\"viewBox=\"0 0 24 24\"\n",
              "     width=\"24px\">\n",
              "    <g>\n",
              "        <path d=\"M19 3H5c-1.1 0-2 .9-2 2v14c0 1.1.9 2 2 2h14c1.1 0 2-.9 2-2V5c0-1.1-.9-2-2-2zM9 17H7v-7h2v7zm4 0h-2V7h2v10zm4 0h-2v-4h2v4z\"/>\n",
              "    </g>\n",
              "</svg>\n",
              "      </button>\n",
              "\n",
              "<style>\n",
              "  .colab-df-quickchart {\n",
              "      --bg-color: #E8F0FE;\n",
              "      --fill-color: #1967D2;\n",
              "      --hover-bg-color: #E2EBFA;\n",
              "      --hover-fill-color: #174EA6;\n",
              "      --disabled-fill-color: #AAA;\n",
              "      --disabled-bg-color: #DDD;\n",
              "  }\n",
              "\n",
              "  [theme=dark] .colab-df-quickchart {\n",
              "      --bg-color: #3B4455;\n",
              "      --fill-color: #D2E3FC;\n",
              "      --hover-bg-color: #434B5C;\n",
              "      --hover-fill-color: #FFFFFF;\n",
              "      --disabled-bg-color: #3B4455;\n",
              "      --disabled-fill-color: #666;\n",
              "  }\n",
              "\n",
              "  .colab-df-quickchart {\n",
              "    background-color: var(--bg-color);\n",
              "    border: none;\n",
              "    border-radius: 50%;\n",
              "    cursor: pointer;\n",
              "    display: none;\n",
              "    fill: var(--fill-color);\n",
              "    height: 32px;\n",
              "    padding: 0;\n",
              "    width: 32px;\n",
              "  }\n",
              "\n",
              "  .colab-df-quickchart:hover {\n",
              "    background-color: var(--hover-bg-color);\n",
              "    box-shadow: 0 1px 2px rgba(60, 64, 67, 0.3), 0 1px 3px 1px rgba(60, 64, 67, 0.15);\n",
              "    fill: var(--button-hover-fill-color);\n",
              "  }\n",
              "\n",
              "  .colab-df-quickchart-complete:disabled,\n",
              "  .colab-df-quickchart-complete:disabled:hover {\n",
              "    background-color: var(--disabled-bg-color);\n",
              "    fill: var(--disabled-fill-color);\n",
              "    box-shadow: none;\n",
              "  }\n",
              "\n",
              "  .colab-df-spinner {\n",
              "    border: 2px solid var(--fill-color);\n",
              "    border-color: transparent;\n",
              "    border-bottom-color: var(--fill-color);\n",
              "    animation:\n",
              "      spin 1s steps(1) infinite;\n",
              "  }\n",
              "\n",
              "  @keyframes spin {\n",
              "    0% {\n",
              "      border-color: transparent;\n",
              "      border-bottom-color: var(--fill-color);\n",
              "      border-left-color: var(--fill-color);\n",
              "    }\n",
              "    20% {\n",
              "      border-color: transparent;\n",
              "      border-left-color: var(--fill-color);\n",
              "      border-top-color: var(--fill-color);\n",
              "    }\n",
              "    30% {\n",
              "      border-color: transparent;\n",
              "      border-left-color: var(--fill-color);\n",
              "      border-top-color: var(--fill-color);\n",
              "      border-right-color: var(--fill-color);\n",
              "    }\n",
              "    40% {\n",
              "      border-color: transparent;\n",
              "      border-right-color: var(--fill-color);\n",
              "      border-top-color: var(--fill-color);\n",
              "    }\n",
              "    60% {\n",
              "      border-color: transparent;\n",
              "      border-right-color: var(--fill-color);\n",
              "    }\n",
              "    80% {\n",
              "      border-color: transparent;\n",
              "      border-right-color: var(--fill-color);\n",
              "      border-bottom-color: var(--fill-color);\n",
              "    }\n",
              "    90% {\n",
              "      border-color: transparent;\n",
              "      border-bottom-color: var(--fill-color);\n",
              "    }\n",
              "  }\n",
              "</style>\n",
              "\n",
              "      <script>\n",
              "        async function quickchart(key) {\n",
              "          const quickchartButtonEl =\n",
              "            document.querySelector('#' + key + ' button');\n",
              "          quickchartButtonEl.disabled = true;  // To prevent multiple clicks.\n",
              "          quickchartButtonEl.classList.add('colab-df-spinner');\n",
              "          try {\n",
              "            const charts = await google.colab.kernel.invokeFunction(\n",
              "                'suggestCharts', [key], {});\n",
              "          } catch (error) {\n",
              "            console.error('Error during call to suggestCharts:', error);\n",
              "          }\n",
              "          quickchartButtonEl.classList.remove('colab-df-spinner');\n",
              "          quickchartButtonEl.classList.add('colab-df-quickchart-complete');\n",
              "        }\n",
              "        (() => {\n",
              "          let quickchartButtonEl =\n",
              "            document.querySelector('#df-3dd7d348-a800-4bf2-81df-49d128750a08 button');\n",
              "          quickchartButtonEl.style.display =\n",
              "            google.colab.kernel.accessAllowed ? 'block' : 'none';\n",
              "        })();\n",
              "      </script>\n",
              "    </div>\n",
              "\n",
              "    </div>\n",
              "  </div>\n"
            ],
            "application/vnd.google.colaboratory.intrinsic+json": {
              "type": "dataframe",
              "summary": "{\n  \"name\": \"pd\",\n  \"rows\": 15,\n  \"fields\": [\n    {\n      \"column\": \"missing_count\",\n      \"properties\": {\n        \"dtype\": \"number\",\n        \"std\": 8989,\n        \"min\": 242,\n        \"max\": 36970,\n        \"num_unique_values\": 6,\n        \"samples\": [\n          36970,\n          35554,\n          242\n        ],\n        \"semantic_type\": \"\",\n        \"description\": \"\"\n      }\n    },\n    {\n      \"column\": \"missing_percent\",\n      \"properties\": {\n        \"dtype\": \"number\",\n        \"std\": 18.31137299473693,\n        \"min\": 0.5,\n        \"max\": 75.3,\n        \"num_unique_values\": 6,\n        \"samples\": [\n          75.3,\n          72.4,\n          0.5\n        ],\n        \"semantic_type\": \"\",\n        \"description\": \"\"\n      }\n    }\n  ]\n}"
            }
          },
          "metadata": {},
          "execution_count": 14
        }
      ]
    },
    {
      "cell_type": "markdown",
      "source": [
        "###🔎 11B: Null-Werte im Kontext interpretieren"
      ],
      "metadata": {
        "id": "a3yR3m8sb-pq"
      }
    },
    {
      "cell_type": "markdown",
      "source": [
        "Wichtige Beobachtung:\n",
        "\n",
        "* flight_discount_amount, base_fare_usd, origin_airport, … → fehlen, wenn kein Flug gebucht wurde.\n",
        "\n",
        "* hotel_discount_amount, hotel_name, nights, … → fehlen, wenn kein Hotel gebucht wurde.\n",
        "\n",
        "* Diese Nulls sind also logisch (nicht fehlerhaft), weil die Info nur existiert, wenn die Reiseart zutrifft.\n",
        "\n",
        "👉 Lösung: Statt Nulls global zu droppen oder mit Mittelwerten zu füllen, übersetzen wir sie in 0 oder „nicht gebucht“, abhängig vom Kontext."
      ],
      "metadata": {
        "id": "BkNS1iG-cAxw"
      }
    },
    {
      "cell_type": "markdown",
      "source": [
        "###🛠️ 11C: Null-Werte behandeln (logische Imputation)"
      ],
      "metadata": {
        "id": "AAlFt_RBcG7P"
      }
    },
    {
      "cell_type": "code",
      "source": [
        "# Null-Werte im Kontext behandeln\n",
        "df_clean2 = df_clean.copy()\n",
        "\n",
        "# Flights: wenn nicht gebucht → Werte auf 0\n",
        "flight_cols = [\"flight_discount_amount\", \"base_fare_usd\", \"seats\", \"checked_bags\"]\n",
        "df_clean2[flight_cols] = df_clean2[flight_cols].fillna(0)\n",
        "\n",
        "# Hotels: wenn nicht gebucht → Werte auf 0\n",
        "hotel_cols_num = [\"hotel_discount_amount\", \"nights\", \"rooms\", \"hotel_price_per_room_night_usd\"]\n",
        "df_clean2[hotel_cols_num] = df_clean2[hotel_cols_num].fillna(0)\n",
        "\n",
        "# Hotels: Textfelder → \"no_hotel\"\n",
        "hotel_cols_cat = [\"hotel_name\", \"check_in_time\", \"check_out_time\"]\n",
        "for c in hotel_cols_cat:\n",
        "    df_clean2[c] = df_clean2[c].fillna(\"no_hotel\")\n",
        "\n",
        "# Flights: Textfelder → \"no_flight\"\n",
        "flight_cols_cat = [\"origin_airport\", \"destination\", \"destination_airport\", \"trip_airline\"]\n",
        "for c in flight_cols_cat:\n",
        "    df_clean2[c] = df_clean2[c].fillna(\"no_flight\")\n",
        "\n",
        "# Optional: return_time → wenn kein Flug, dann NaT, sonst bleibt\n",
        "df_clean2[\"return_time\"] = pd.to_datetime(df_clean2[\"return_time\"], errors=\"coerce\")\n",
        "df_clean2[\"departure_time\"] = pd.to_datetime(df_clean2[\"departure_time\"], errors=\"coerce\")\n",
        "\n",
        "print(\"Null-Handling fertig. Rows:\", len(df_clean2))"
      ],
      "metadata": {
        "colab": {
          "base_uri": "https://localhost:8080/"
        },
        "id": "UbaklbsrcJ3A",
        "outputId": "dfcca36e-d5a5-4309-f275-7284c97015d4"
      },
      "execution_count": null,
      "outputs": [
        {
          "output_type": "stream",
          "name": "stdout",
          "text": [
            "Null-Handling fertig. Rows: 49104\n"
          ]
        }
      ]
    },
    {
      "cell_type": "markdown",
      "source": [
        "Die vielen Null-Werte sind nicht zufällig, sondern entstehen logisch:\n",
        "Fehlen Flugdaten, bedeutet das meist, dass kein Flug gebucht wurde. Dasselbe gilt für Hotels. Deshalb habe ich die Null-Werte kontextabhängig behandelt:\n",
        "\n",
        "* Numerische Felder wie nights, base_fare_usd oder checked_bags habe ich mit 0 befüllt, da sie bei ‚nicht gebucht‘ keine Werte haben können.\n",
        "\n",
        "* Kategorische Felder wie hotel_name oder origin_airport habe ich mit Platzhaltern wie „no_hotel“ bzw. „no_flight“ ersetzt.\n",
        "\n",
        "* Zeitfelder wie departure_time und return_time habe ich als Datum (datetime) eingelesen, wobei fehlende Werte als NaT (= not a time) stehen bleiben.\n",
        "\n",
        "Damit ist der Datensatz einheitlich und modellierbar, ohne dass wir wichtige Infos verlieren."
      ],
      "metadata": {
        "id": "gm9ABhD-cSWA"
      }
    },
    {
      "cell_type": "markdown",
      "source": [
        "###🧹 11D: Finaler Null-Werte-Check"
      ],
      "metadata": {
        "id": "50FLTRFecfE5"
      }
    },
    {
      "cell_type": "code",
      "source": [
        "# 11D — Finaler Null-Werte-Check\n",
        "nulls_final = df_clean2.isnull().sum().sort_values(ascending=False)\n",
        "nulls_final_percent = (nulls_final / len(df_clean2) * 100).round(2)\n",
        "\n",
        "# Nur Spalten anzeigen, die noch Nulls haben\n",
        "nulls_final[nulls_final > 0]"
      ],
      "metadata": {
        "colab": {
          "base_uri": "https://localhost:8080/",
          "height": 335
        },
        "id": "pHtGksJVchfj",
        "outputId": "d97b9196-c50a-43e5-fe8a-6266c844a2db"
      },
      "execution_count": null,
      "outputs": [
        {
          "output_type": "execute_result",
          "data": {
            "text/plain": [
              "return_time                35554\n",
              "destination_airport_lat    34941\n",
              "return_flight_booked       34941\n",
              "departure_time             34941\n",
              "destination_airport_lon    34941\n",
              "trip_id                    32509\n",
              "session_minutes              242\n",
              "session_end                  242\n",
              "dtype: int64"
            ],
            "text/html": [
              "<div>\n",
              "<style scoped>\n",
              "    .dataframe tbody tr th:only-of-type {\n",
              "        vertical-align: middle;\n",
              "    }\n",
              "\n",
              "    .dataframe tbody tr th {\n",
              "        vertical-align: top;\n",
              "    }\n",
              "\n",
              "    .dataframe thead th {\n",
              "        text-align: right;\n",
              "    }\n",
              "</style>\n",
              "<table border=\"1\" class=\"dataframe\">\n",
              "  <thead>\n",
              "    <tr style=\"text-align: right;\">\n",
              "      <th></th>\n",
              "      <th>0</th>\n",
              "    </tr>\n",
              "  </thead>\n",
              "  <tbody>\n",
              "    <tr>\n",
              "      <th>return_time</th>\n",
              "      <td>35554</td>\n",
              "    </tr>\n",
              "    <tr>\n",
              "      <th>destination_airport_lat</th>\n",
              "      <td>34941</td>\n",
              "    </tr>\n",
              "    <tr>\n",
              "      <th>return_flight_booked</th>\n",
              "      <td>34941</td>\n",
              "    </tr>\n",
              "    <tr>\n",
              "      <th>departure_time</th>\n",
              "      <td>34941</td>\n",
              "    </tr>\n",
              "    <tr>\n",
              "      <th>destination_airport_lon</th>\n",
              "      <td>34941</td>\n",
              "    </tr>\n",
              "    <tr>\n",
              "      <th>trip_id</th>\n",
              "      <td>32509</td>\n",
              "    </tr>\n",
              "    <tr>\n",
              "      <th>session_minutes</th>\n",
              "      <td>242</td>\n",
              "    </tr>\n",
              "    <tr>\n",
              "      <th>session_end</th>\n",
              "      <td>242</td>\n",
              "    </tr>\n",
              "  </tbody>\n",
              "</table>\n",
              "</div><br><label><b>dtype:</b> int64</label>"
            ]
          },
          "metadata": {},
          "execution_count": 16
        }
      ]
    },
    {
      "cell_type": "markdown",
      "source": [
        "Nach der Imputation habe ich einen finalen Check auf fehlende Werte durchgeführt. Dabei zeigt sich, dass nur noch in einigen logisch erklärbaren Spalten Null-Werte vorkommen:\n",
        "\n",
        "* return_time, departure_time, return_flight_booked, destination_airport_lat/lon → fehlen dann, wenn kein Flug gebucht wurde.\n",
        "\n",
        "* trip_id → fehlt, wenn eine Session keine Reise beinhaltet.\n",
        "\n",
        "* session_minutes und session_end → kleine Restgruppe (242 Werte), vermutlich durch abgebrochene oder unvollständige Sessions verursacht.\n",
        "\n",
        "Alle anderen Spalten sind vollständig.\n",
        "\n",
        "Das bedeutet: Die verbliebenen Null-Werte spiegeln reale Abwesenheit von Information wider (z. B. kein Flug = keine Destination, kein Rückflug = keine Rückflugzeit) und stellen kein Datenqualitätsproblem mehr dar.\n",
        "\n",
        "👉 Damit ist mein Datensatz konsistent und sauber und kann als solide Grundlage für die Feature-Entwicklung und Segmentierung genutzt werden."
      ],
      "metadata": {
        "id": "em86txqycnKJ"
      }
    },
    {
      "cell_type": "markdown",
      "source": [
        "##📊 12: Trip-Status kennzeichnen (completed / canceled / browsing)"
      ],
      "metadata": {
        "id": "ogUBtrXpf6fI"
      }
    },
    {
      "cell_type": "code",
      "source": [
        "# 12A — Hilfsflags pro Session (was war wirklich gebucht?)\n",
        "df_clean2 = df_clean2.copy()\n",
        "\n",
        "# Flug als \"gebucht\" erkennen: explizit (flight_booked) ODER eindeutige Buchungs-Indizien\n",
        "has_flight = (\n",
        "    df_clean2[\"flight_booked\"].fillna(False)\n",
        "    | (df_clean2[\"base_fare_usd\"] > 0)\n",
        "    | (df_clean2[\"seats\"] > 0)\n",
        "    | (df_clean2[\"checked_bags\"] > 0)\n",
        ")\n",
        "\n",
        "# Hotel als \"gebucht\" erkennen: explizit (hotel_booked) ODER eindeutige Buchungs-Indizien\n",
        "has_hotel = (\n",
        "    df_clean2[\"hotel_booked\"].fillna(False)\n",
        "    | (df_clean2[\"nights\"] > 0)\n",
        "    | (df_clean2[\"rooms\"] > 0)\n",
        "    | (df_clean2[\"hotel_price_per_room_night_usd\"] > 0)\n",
        ")\n",
        "\n",
        "df_clean2[\"has_flight\"] = has_flight\n",
        "df_clean2[\"has_hotel\"]  = has_hotel\n",
        "\n",
        "# 12B — Trip-Status je Session ableiten\n",
        "# Logik:\n",
        "# - cancellation == True  → \"canceled\"\n",
        "# - sonst wenn irgendetwas gebucht → \"completed\"\n",
        "# - sonst → \"browsing\" (nur geschaut / leere Session)\n",
        "import numpy as np\n",
        "\n",
        "df_clean2[\"trip_status\"] = np.select(\n",
        "    [\n",
        "        df_clean2[\"cancellation\"].fillna(False),        # 1) storniert\n",
        "        (df_clean2[\"has_flight\"] | df_clean2[\"has_hotel\"])  # 2) irgendwas gebucht\n",
        "    ],\n",
        "    [\"canceled\", \"completed\"],\n",
        "    default=\"browsing\"\n",
        ")\n",
        "\n",
        "# 12C — Sanity Checks\n",
        "print(\"Trip-Status — Verteilung:\")\n",
        "print(df_clean2[\"trip_status\"].value_counts(dropna=False))\n",
        "\n",
        "print(\"\\nKreuztabelle: Status x (has_flight/has_hotel)\")\n",
        "print(pd.crosstab(df_clean2[\"trip_status\"], [df_clean2[\"has_flight\"], df_clean2[\"has_hotel\"]]))\n",
        "\n",
        "# Optional: Sessions ohne session_end (unvollständig) einmal sichtbar machen\n",
        "incomplete_mask = df_clean2[\"session_end\"].isna() | df_clean2[\"session_minutes\"].isna()\n",
        "print(\"\\nUnvollständige Sessions (nur Info):\", int(incomplete_mask.sum()))"
      ],
      "metadata": {
        "colab": {
          "base_uri": "https://localhost:8080/"
        },
        "id": "vJ6uAGARf8vC",
        "outputId": "7c70a34a-38cf-413b-8eab-cb1b179154da"
      },
      "execution_count": null,
      "outputs": [
        {
          "output_type": "stream",
          "name": "stdout",
          "text": [
            "Trip-Status — Verteilung:\n",
            "trip_status\n",
            "browsing     32509\n",
            "completed    15987\n",
            "canceled       608\n",
            "Name: count, dtype: int64\n",
            "\n",
            "Kreuztabelle: Status x (has_flight/has_hotel)\n",
            "has_flight   False       True        \n",
            "has_hotel    False True  False  True \n",
            "trip_status                          \n",
            "browsing     32509     0     0      0\n",
            "canceled         0     0     0    608\n",
            "completed        0  2382  1783  11822\n",
            "\n",
            "Unvollständige Sessions (nur Info): 242\n"
          ]
        }
      ]
    },
    {
      "cell_type": "markdown",
      "source": [
        "Nachdem ich den Datensatz aufbereitet habe, habe ich eine neue Spalte trip_status erstellt. Damit lassen sich die Sessions in drei Kategorien einteilen:\n",
        "\n",
        "* Browsing (32.509) – Nutzer*innen haben nur gestöbert, ohne Buchung.\n",
        "\n",
        "* Completed (15.987) – abgeschlossene Reisen (mit Hotel- und/oder Flugbuchung).\n",
        "\n",
        "* Canceled (608) – Trips, die nach Buchung wieder storniert wurden.\n",
        "\n",
        "Zusätzlich habe ich unvollständige Sessions mit fehlenden Werten (242 Fälle) erkannt und dokumentiert. Diese bleiben als Info bestehen, damit klar ist, warum die Zeilen nicht in die Hauptanalyse einfließen.\n",
        "\n",
        "Am Ende habe ich den bereinigten Datensatz als session_base_clean.csv exportiert. Er enthält 49.104 Zeilen und 46 Spalten und bildet die Grundlage für das weitere Feature Engineering."
      ],
      "metadata": {
        "id": "gj-PYYl0gHQg"
      }
    },
    {
      "cell_type": "markdown",
      "source": [
        "###💾 12D: Export der bereinigten Session-Basis"
      ],
      "metadata": {
        "id": "p-Imzcw_gHBt"
      }
    },
    {
      "cell_type": "code",
      "source": [
        "# 12D — Export für das nächste Notebook (Feature Engineering)\n",
        "OUT_PATH = \"session_base_clean.csv\"\n",
        "df_clean2.to_csv(OUT_PATH, index=False)\n",
        "print(f\"Exportiert: {OUT_PATH} — Rows: {len(df_clean2)}, Cols: {df_clean2.shape[1]}\")"
      ],
      "metadata": {
        "colab": {
          "base_uri": "https://localhost:8080/"
        },
        "id": "XJo0WURUgMkn",
        "outputId": "e2cc4633-b739-48e8-8e29-7a12971568b7"
      },
      "execution_count": null,
      "outputs": [
        {
          "output_type": "stream",
          "name": "stdout",
          "text": [
            "Exportiert: session_base_clean.csv — Rows: 49104, Cols: 46\n"
          ]
        }
      ]
    },
    {
      "cell_type": "markdown",
      "source": [
        "Damit ist meine Session-Base nun vollständig bereinigt, geprüft und mit einer klaren Trip-Status-Definition versehen. Der Datensatz liegt in einer sauberen Version als session_base_clean.csv vor und bildet die Grundlage für das nächste Kapitel: Feature Engineering."
      ],
      "metadata": {
        "id": "9LVKHb0JgQQQ"
      }
    },
    {
      "cell_type": "code",
      "source": [
        "from google.colab import files\n",
        "\n",
        "files.download(\"session_base_clean.csv\")"
      ],
      "metadata": {
        "colab": {
          "base_uri": "https://localhost:8080/",
          "height": 17
        },
        "id": "hRo5LNLKhN6N",
        "outputId": "7eeadaea-f491-4962-dd8d-4cee68ff67f7"
      },
      "execution_count": null,
      "outputs": [
        {
          "output_type": "display_data",
          "data": {
            "text/plain": [
              "<IPython.core.display.Javascript object>"
            ],
            "application/javascript": [
              "\n",
              "    async function download(id, filename, size) {\n",
              "      if (!google.colab.kernel.accessAllowed) {\n",
              "        return;\n",
              "      }\n",
              "      const div = document.createElement('div');\n",
              "      const label = document.createElement('label');\n",
              "      label.textContent = `Downloading \"${filename}\": `;\n",
              "      div.appendChild(label);\n",
              "      const progress = document.createElement('progress');\n",
              "      progress.max = size;\n",
              "      div.appendChild(progress);\n",
              "      document.body.appendChild(div);\n",
              "\n",
              "      const buffers = [];\n",
              "      let downloaded = 0;\n",
              "\n",
              "      const channel = await google.colab.kernel.comms.open(id);\n",
              "      // Send a message to notify the kernel that we're ready.\n",
              "      channel.send({})\n",
              "\n",
              "      for await (const message of channel.messages) {\n",
              "        // Send a message to notify the kernel that we're ready.\n",
              "        channel.send({})\n",
              "        if (message.buffers) {\n",
              "          for (const buffer of message.buffers) {\n",
              "            buffers.push(buffer);\n",
              "            downloaded += buffer.byteLength;\n",
              "            progress.value = downloaded;\n",
              "          }\n",
              "        }\n",
              "      }\n",
              "      const blob = new Blob(buffers, {type: 'application/binary'});\n",
              "      const a = document.createElement('a');\n",
              "      a.href = window.URL.createObjectURL(blob);\n",
              "      a.download = filename;\n",
              "      div.appendChild(a);\n",
              "      a.click();\n",
              "      div.remove();\n",
              "    }\n",
              "  "
            ]
          },
          "metadata": {}
        },
        {
          "output_type": "display_data",
          "data": {
            "text/plain": [
              "<IPython.core.display.Javascript object>"
            ],
            "application/javascript": [
              "download(\"download_d0d4c2a4-16dc-45ef-956f-678790a9d2c4\", \"session_base_clean.csv\", 18095111)"
            ]
          },
          "metadata": {}
        }
      ]
    }
  ]
}